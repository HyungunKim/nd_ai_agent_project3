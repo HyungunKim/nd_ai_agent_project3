{
 "cells": [
  {
   "cell_type": "markdown",
   "id": "6fdd0bcb",
   "metadata": {},
   "source": [
    "# [STARTER] Udaplay Project"
   ]
  },
  {
   "cell_type": "markdown",
   "id": "9325b035",
   "metadata": {},
   "source": [
    "## Part 02 - Agent\n",
    "\n",
    "In this part of the project, you'll use your VectorDB to be part of your Agent as a tool.\n",
    "\n",
    "You're building UdaPlay, an AI Research Agent for the video game industry. The agent will:\n",
    "1. Answer questions using internal knowledge (RAG)\n",
    "2. Search the web when needed\n",
    "3. Maintain conversation state\n",
    "4. Return structured outputs\n",
    "5. Store useful information for future use"
   ]
  },
  {
   "cell_type": "markdown",
   "id": "2b42de90",
   "metadata": {},
   "source": [
    "### Setup"
   ]
  },
  {
   "cell_type": "code",
   "execution_count": 1,
   "id": "a963d4ca",
   "metadata": {
    "ExecuteTime": {
     "end_time": "2025-08-10T07:47:10.742418Z",
     "start_time": "2025-08-10T07:47:08.094132Z"
    }
   },
   "outputs": [],
   "source": [
    "# Only needed for Udacity workspace\n",
    "\n",
    "import importlib.util\n",
    "import sys\n",
    "\n",
    "from lib.rag import RAG\n",
    "\n",
    "# Check if 'pysqlite3' is available before importing\n",
    "if importlib.util.find_spec(\"pysqlite3\") is not None:\n",
    "    import pysqlite3\n",
    "    sys.modules['sqlite3'] = sys.modules.pop('pysqlite3')"
   ]
  },
  {
   "cell_type": "code",
   "execution_count": 20,
   "id": "fd10c06e",
   "metadata": {
    "ExecuteTime": {
     "end_time": "2025-08-10T08:08:10.106508Z",
     "start_time": "2025-08-10T08:08:10.103715Z"
    }
   },
   "outputs": [],
   "source": [
    "import os\n",
    "from enum import Enum\n",
    "import json\n",
    "from json import JSONDecodeError\n",
    "import chromadb\n",
    "from tavily import TavilyClient\n",
    "from lib.vector_db import VectorStore\n",
    "from lib.rag import RAG\n",
    "from lib.agents import Agent\n",
    "from lib.llm import LLM\n",
    "from lib.messages import UserMessage, SystemMessage, ToolMessage, AIMessage\n",
    "from lib.state_machine import Run\n",
    "from lib.tooling import tool\n",
    "from dotenv import load_dotenv"
   ]
  },
  {
   "cell_type": "code",
   "execution_count": 3,
   "id": "87e465d4",
   "metadata": {
    "ExecuteTime": {
     "end_time": "2025-08-10T07:47:13.363117Z",
     "start_time": "2025-08-10T07:47:13.357654Z"
    }
   },
   "outputs": [],
   "source": [
    "load_dotenv()\n",
    "OPENAI_API_KEY = os.getenv(\"OPENAI_API_KEY\")\n",
    "TAVILY_API_KEY = os.getenv(\"TAVILY_API_KEY\")\n",
    "BASE_URL = \"https://openai.vocareum.com/v1\""
   ]
  },
  {
   "cell_type": "code",
   "execution_count": 4,
   "id": "ce364221",
   "metadata": {
    "ExecuteTime": {
     "end_time": "2025-08-10T07:47:19.374296Z",
     "start_time": "2025-08-10T07:47:19.371716Z"
    }
   },
   "outputs": [],
   "source": [
    "\n",
    "class OpenAIModel(str, Enum):\n",
    "    GPT_41 = \"gpt-4.1\"  # Strong default choice for development tasks, particularly those requiring speed, responsiveness, and general-purpose reasoning.\n",
    "    GPT_41_MINI = \"gpt-4.1-mini\"  # Fast and affordable, good for brainstorming, drafting, and tasks that don't require the full power of GPT-4.1.\n",
    "    GPT_41_NANO = \"gpt-4.1-nano\"  # The fastest and cheapest model, suitable for lightweight tasks, high-frequency usage, and edge computing.\n",
    "    GPT_35_TURBO = \"gpt-3.5-turbo\"\n",
    "\n",
    "MODEL = OpenAIModel.GPT_41_MINI"
   ]
  },
  {
   "cell_type": "markdown",
   "id": "27de4729",
   "metadata": {},
   "source": [
    "### Tools"
   ]
  },
  {
   "cell_type": "markdown",
   "id": "46ab2dac",
   "metadata": {},
   "source": [
    "Build at least 3 tools:\n",
    "- retrieve_game: To search the vector DB\n",
    "- evaluate_retrieval: To assess the retrieval performance\n",
    "- game_web_search: If no good, search the web\n"
   ]
  },
  {
   "cell_type": "markdown",
   "id": "ce4f14cd",
   "metadata": {},
   "source": [
    "#### Retrieve Game Tool"
   ]
  },
  {
   "cell_type": "code",
   "execution_count": 84,
   "id": "b25c36dd",
   "metadata": {
    "ExecuteTime": {
     "end_time": "2025-08-10T09:21:01.522924Z",
     "start_time": "2025-08-10T09:21:01.510963Z"
    }
   },
   "outputs": [],
   "source": [
    "chroma_client = chromadb.PersistentClient(path=\"chromadb\")\n",
    "collection = chroma_client.get_collection(\"udaplay\")\n",
    "game_vector_store = VectorStore(collection)\n",
    "\n",
    "@tool\n",
    "def retrieve_game(query):\n",
    "    \"\"\"Tool Docstring:\n",
    "   Semantic search: Finds most results in the vector DB\n",
    "   args:\n",
    "   - query: a question about game industry.\n",
    "\n",
    "   You'll receive results as list. Each element contains:\n",
    "   - ID: Unique ID of the document\n",
    "   - Platform: like Game Boy, Playstation 5, Xbox 360...)\n",
    "   - Name: Name of the Game\n",
    "   - YearOfRelease: Year when that game was released for that platform\n",
    "   - Description: Additional details about the game\"\"\"\n",
    "    results = game_vector_store.query(query_texts=[query])\n",
    "    documents = []\n",
    "    for doc_id, content in zip(results['ids'][0], results['documents'][0]):\n",
    "        documents.append(f\"ID_{doc_id}: {content}\")\n",
    "    return documents"
   ]
  },
  {
   "cell_type": "code",
   "execution_count": 83,
   "id": "fe0bf75d06747357",
   "metadata": {
    "ExecuteTime": {
     "end_time": "2025-08-10T09:20:40.794704Z",
     "start_time": "2025-08-10T09:20:39.171741Z"
    }
   },
   "outputs": [
    {
     "name": "stdout",
     "output_type": "stream",
     "text": [
      "[\"ID_009: [Nintendo 64] Super Mario 64 (1996) -genre: Platformer -publisher: Nintendo - A groundbreaking 3D platformer that set new standards for the genre, featuring Mario's quest to rescue Princess Peach.\", 'ID_008: [Super Nintendo Entertainment System (SNES)] Super Mario World (1990) -genre: Platformer -publisher: Nintendo - A classic platformer where Mario embarks on a quest to save Princess Toadstool and Dinosaur Land from Bowser.', 'ID_010: [GameCube] Super Smash Bros. Melee (2001) -genre: Fighting -publisher: Nintendo - A crossover fighting game featuring characters from various Nintendo franchises battling it out in dynamic arenas.']\n"
     ]
    }
   ],
   "source": [
    "result = retrieve_game(\"Which one was the first 3D platformer Mario game?\")\n",
    "print(result)"
   ]
  },
  {
   "cell_type": "code",
   "execution_count": 79,
   "id": "fc625096937e60cf",
   "metadata": {
    "ExecuteTime": {
     "end_time": "2025-08-10T09:18:04.441714Z",
     "start_time": "2025-08-10T09:18:02.639455Z"
    }
   },
   "outputs": [],
   "source": [
    "results = game_vector_store.query(\"Who developed FIFA 21?\")"
   ]
  },
  {
   "cell_type": "code",
   "execution_count": 81,
   "id": "ceb7509c47290e5d",
   "metadata": {
    "ExecuteTime": {
     "end_time": "2025-08-10T09:19:24.618636Z",
     "start_time": "2025-08-10T09:19:24.615613Z"
    }
   },
   "outputs": [
    {
     "name": "stdout",
     "output_type": "stream",
     "text": [
      "['015', '001', '011']\n"
     ]
    }
   ],
   "source": [
    "print(results[\"ids\"][0])"
   ]
  },
  {
   "cell_type": "markdown",
   "id": "c7935a26",
   "metadata": {},
   "source": [
    "#### Evaluate Retrieval Tool"
   ]
  },
  {
   "cell_type": "code",
   "execution_count": 113,
   "id": "2ad698aa",
   "metadata": {
    "ExecuteTime": {
     "end_time": "2025-08-10T09:33:05.503636Z",
     "start_time": "2025-08-10T09:33:05.499838Z"
    }
   },
   "outputs": [],
   "source": [
    "@tool\n",
    "def evaluate_retrieval(query, retrieved_docs):\n",
    "    \"\"\"Tool Docstring:\n",
    "    Based on the user's question and on the list of retrieved documents,\n",
    "    it will analyze the usability of the documents to respond to that question.\n",
    "    args:\n",
    "    - question: original question from user\n",
    "    - retrieved_docs: content of retrieved documents most similar to the user query in the Vector Database\n",
    "    The result includes:\n",
    "    - useful: whether the documents are useful to answer the question\n",
    "    - description: description about the evaluation result\n",
    "    \"\"\"\n",
    "    llm = LLM(model=MODEL, temperature=0)\n",
    "    messages = [\n",
    "        SystemMessage(content=\"You are an assistant for evaluating how relevant given document is to answer a question. Your task is to evaluate if the documents are enough to respond the query. Give a detailed explanation, so it's possible to take an action to accept it or not. The output format is a JSON object with the following keys: useful, description. Only reply with json string and no other text. Don't include ```json```\"),\n",
    "        UserMessage(\n",
    "            content=(\n",
    "                \"Evaluate the following pieces of retrieved context to answer the question. \"\n",
    "                f\"\\n# Question: \\n-> {query} \"\n",
    "                f\"\\n# Context: \\n-> {retrieved_docs} \"\n",
    "                \"\\n# Answer: \"\n",
    "            )\n",
    "        )\n",
    "    ]\n",
    "    ai_message = llm.invoke(messages)\n",
    "    try:\n",
    "        eval_result = json.loads(ai_message.content)\n",
    "        eval_result[\"error\"] = False\n",
    "    except JSONDecodeError:\n",
    "        print(f\"Error: Invalid JSON returned by LLM: {ai_message.content}\")\n",
    "        eval_result = {\"useful\": False, \"description\": \"Invalid JSON returned by LLM. Please try again.\", \"error\": True}\n",
    "\n",
    "    # return in string so that llm can process it directly\n",
    "    return eval_result\n",
    "\n"
   ]
  },
  {
   "cell_type": "code",
   "execution_count": 114,
   "id": "bddebdc2d1a51434",
   "metadata": {
    "ExecuteTime": {
     "end_time": "2025-08-10T09:33:12.555781Z",
     "start_time": "2025-08-10T09:33:08.823454Z"
    }
   },
   "outputs": [
    {
     "name": "stdout",
     "output_type": "stream",
     "text": [
      "{'useful': True, 'description': \"The context includes information about 'Super Mario 64' released in 1996 on the Nintendo 64, described as a groundbreaking 3D platformer. It also mentions 'Super Mario World' from 1990 on the SNES, which is a classic platformer but not 3D, and 'Super Smash Bros. Melee' which is a fighting game. Since 'Super Mario 64' is explicitly identified as a 3D platformer and is the earliest 3D Mario platformer mentioned, the context is sufficient to answer that 'Super Mario 64' was the first 3D platformer Mario game.\", 'error': False}\n"
     ]
    }
   ],
   "source": [
    "eval = evaluate_retrieval(\"Which one was the first 3D platformer Mario game?\", result)\n",
    "print(eval)"
   ]
  },
  {
   "cell_type": "markdown",
   "id": "df844b3b",
   "metadata": {},
   "source": [
    "#### Game Web Search Tool"
   ]
  },
  {
   "cell_type": "code",
   "execution_count": 115,
   "id": "31c56281",
   "metadata": {
    "ExecuteTime": {
     "end_time": "2025-08-10T09:33:16.596071Z",
     "start_time": "2025-08-10T09:33:16.593321Z"
    }
   },
   "outputs": [],
   "source": [
    "@tool\n",
    "def game_web_search_tool(query):\n",
    "    \"\"\"\n",
    "    Performs a web search for game-related information based on the provided query\n",
    "    and returns the search results as structured data.\n",
    "\n",
    "    This tool is specifically designed to fetch game-related details by\n",
    "    querying web search platforms. It may be integrated into larger systems for\n",
    "    fetching and processing game-related content dynamically.\n",
    "\n",
    "    Args:\n",
    "        query: A string representing the search query for games.\n",
    "\n",
    "    Returns:\n",
    "         urllib3.response.HTTPResponse: A response object containing the search results.\n",
    "    \"\"\"\n",
    "    api_key = os.getenv(\"TAVILY_API_KEY\")\n",
    "    client = TavilyClient(api_key=api_key)\n",
    "    result = client.search(query, search_depth=\"advanced\", max_results=5, include_domains=[\"ign.com\", \"gamespot.com\", \"polygon.com\", \"eurogamer.net\", \"gamesradar.com\"])\n",
    "    return result"
   ]
  },
  {
   "cell_type": "code",
   "execution_count": 116,
   "id": "c55ff24477644759",
   "metadata": {
    "ExecuteTime": {
     "end_time": "2025-08-10T09:33:17.482885Z",
     "start_time": "2025-08-10T09:33:17.479315Z"
    }
   },
   "outputs": [],
   "source": [
    "@tool\n",
    "def game_web_search_tool(query):\n",
    "    \"\"\"\n",
    "    Performs a web search for game-related information based on the provided query\n",
    "    and returns the search results as structured data.\n",
    "\n",
    "    This tool is specifically designed to fetch game-related details by\n",
    "    querying web search platforms. It may be integrated into larger systems for\n",
    "    fetching and processing game-related content dynamically.\n",
    "\n",
    "    Args:\n",
    "        query: A string representing the search query for games.\n",
    "\n",
    "    Returns:\n",
    "         List of dictionaries containing structured search result data, where each\n",
    "\n",
    "    Returns:\n",
    "        List of dictionaries containing structured search result data, where each \n",
    "        dictionary represents a single search result with related details such as \n",
    "        title, URL, and description.\n",
    "    \"\"\"\n",
    "    if not query:\n",
    "        raise ValueError(\"Search query cannot be empty\")\n",
    "\n",
    "    try:\n",
    "        from tavily import TavilyClient\n",
    "        api_key = os.getenv(\"TAVILY_API_KEY\")\n",
    "        client = TavilyClient(api_key=api_key)\n",
    "\n",
    "        search_params = {\n",
    "            'query': query + \" video game\",\n",
    "            'search_depth': \"advanced\",\n",
    "            'max_results': 5,\n",
    "            'include_domains': [\n",
    "                'ign.com',\n",
    "                'gamespot.com',\n",
    "                'polygon.com',\n",
    "                'eurogamer.net',\n",
    "                'gamesradar.com'\n",
    "            ]\n",
    "        }\n",
    "\n",
    "        results = client.search(**search_params)\n",
    "        return results\n",
    "\n",
    "    except ImportError:\n",
    "        raise RuntimeError(\"Tavily client not installed. Please install with: pip install tavily-python\")\n",
    "    except ConnectionError:\n",
    "        raise ConnectionError(\"Failed to connect to search service\")\n",
    "    except Exception as e:\n",
    "        raise RuntimeError(f\"Unexpected error during search: {str(e)}\")"
   ]
  },
  {
   "cell_type": "code",
   "execution_count": null,
   "id": "aaeb7fc2ea048944",
   "metadata": {},
   "outputs": [],
   "source": [
    "result = game_web_search_tool(\"Which one was the first 3D platformer Mario game?\")\n",
    "print(result)"
   ]
  },
  {
   "cell_type": "markdown",
   "id": "c0f16e64e102295c",
   "metadata": {},
   "source": [
    "### Agent"
   ]
  },
  {
   "cell_type": "code",
   "execution_count": 117,
   "id": "6dade6ef75d268cb",
   "metadata": {
    "ExecuteTime": {
     "end_time": "2025-08-10T09:33:25.736738Z",
     "start_time": "2025-08-10T09:33:25.734365Z"
    }
   },
   "outputs": [],
   "source": [
    "simple_agent = Agent(\n",
    "    model_name=MODEL,\n",
    "    instructions=\"\"\"You are a helpful assistant for searching and answering questions about video games.\n",
    "    You are given a tool to search the vector DB, a tool to evaluate the retrieved document, and a tool to search the web.\n",
    "    ---\n",
    "    Here are the guidelines for using the tools:\n",
    "    1. Always search the vector DB first.\n",
    "    2. Always evaluate the retrieved document using the evaluate tool.\n",
    "    3. If the tool to search the vector DB returns no useful result, search the web. Provide citation if searched from web.\n",
    "    ---\n",
    "    Output Format:\n",
    "    [Summary of the answer]\n",
    "        short summary of the answer\n",
    "    [Detailed explanation]\n",
    "        detailed explanation of the answer\n",
    "    [List of retrieved documents]\n",
    "        [List of retrieved document ID]\n",
    "            (ex: ID_001, ID_002, ID_003)\n",
    "        [Evaluation result]\n",
    "            whether the documents are enough to answer the question,\n",
    "            (ex: useful, not useful, useful)\n",
    "    [Citation]\n",
    "        [Link to the relevant web page]\n",
    "    [Additional information]\n",
    "        [Error message]\n",
    "        [Error code]\n",
    "        [Error details]\n",
    "        [Error traceback]\n",
    "    \"\"\",\n",
    "    tools=[retrieve_game, evaluate_retrieval, game_web_search_tool]\n",
    ")"
   ]
  },
  {
   "cell_type": "code",
   "execution_count": 118,
   "id": "117e4eb22b2e6c03",
   "metadata": {
    "ExecuteTime": {
     "end_time": "2025-08-10T09:33:31.061664Z",
     "start_time": "2025-08-10T09:33:31.058885Z"
    }
   },
   "outputs": [],
   "source": [
    "\n",
    "from typing import List\n",
    "from lib.messages import BaseMessage\n",
    "def print_messages(messages: List[BaseMessage]):\n",
    "    for m in messages:\n",
    "        print(f\" -> (role = {m.role}, content = {m.content}, tool_calls = {getattr(m, 'tool_calls', None)})\")\n",
    "\n",
    "\n"
   ]
  },
  {
   "cell_type": "code",
   "execution_count": 119,
   "id": "73221ff07844e2c0",
   "metadata": {
    "ExecuteTime": {
     "end_time": "2025-08-10T09:33:43.362772Z",
     "start_time": "2025-08-10T09:33:32.632067Z"
    }
   },
   "outputs": [
    {
     "name": "stdout",
     "output_type": "stream",
     "text": [
      "[StateMachine] Starting: __entry__\n",
      "[StateMachine] Executing step: message_prep\n",
      "[StateMachine] Executing step: llm_processor\n",
      "[StateMachine] Executing step: tool_executor\n",
      "[StateMachine] Executing step: llm_processor\n",
      "[StateMachine] Executing step: tool_executor\n",
      "[StateMachine] Executing step: llm_processor\n",
      "[StateMachine] Terminating: __termination__\n",
      " -> (role = system, content = You are a helpful assistant for searching and answering questions about video games.\n",
      "    You are given a tool to search the vector DB, a tool to evaluate the retrieved document, and a tool to search the web.\n",
      "    ---\n",
      "    Here are the guidelines for using the tools:\n",
      "    1. Always search the vector DB first.\n",
      "    2. Always evaluate the retrieved document using the evaluate tool.\n",
      "    3. If the tool to search the vector DB returns no useful result, search the web. Provide citation if searched from web.\n",
      "    ---\n",
      "    Output Format:\n",
      "    [Summary of the answer]\n",
      "        short summary of the answer\n",
      "    [Detailed explanation]\n",
      "        detailed explanation of the answer\n",
      "    [List of retrieved documents]\n",
      "        [List of retrieved document ID]\n",
      "            (ex: ID_001, ID_002, ID_003)\n",
      "        [Evaluation result]\n",
      "            whether the documents are enough to answer the question,\n",
      "            (ex: useful, not useful, useful)\n",
      "    [Citation]\n",
      "        [Link to the relevant web page]\n",
      "    [Additional information]\n",
      "        [Error message]\n",
      "        [Error code]\n",
      "        [Error details]\n",
      "        [Error traceback]\n",
      "    , tool_calls = None)\n",
      " -> (role = user, content = When Pokémon Gold and Silver was released?, tool_calls = None)\n",
      " -> (role = assistant, content = None, tool_calls = [ChatCompletionMessageFunctionToolCall(id='call_M7E13Da1IO8eEhbgbieC3Kvj', function=Function(arguments='{\"query\":\"Pokémon Gold and Silver release date\"}', name='retrieve_game'), type='function')])\n",
      " -> (role = tool, content = \"['ID_006: [Game Boy Color] Pok\\u00e9mon Gold and Silver (1999) -genre: Role-playing -publisher: Nintendo - Second-generation Pok\\u00e9mon games introducing new regions, Pok\\u00e9mon, and gameplay mechanics.', 'ID_007: [Game Boy Advance] Pok\\u00e9mon Ruby and Sapphire (2002) -genre: Role-playing -publisher: Nintendo - Third-generation Pok\\u00e9mon games set in the Hoenn region, featuring new Pok\\u00e9mon and double battles.', 'ID_012: [Nintendo Switch] Mario Kart 8 Deluxe (2017) -genre: Racing -publisher: Nintendo - An enhanced version of Mario Kart 8, featuring new characters, tracks, and improved gameplay mechanics.']\", tool_calls = None)\n",
      " -> (role = assistant, content = None, tool_calls = [ChatCompletionMessageFunctionToolCall(id='call_anE6HO8FvYHKsWByoU3he7UK', function=Function(arguments='{\"query\":\"When Pokémon Gold and Silver was released?\",\"retrieved_docs\":\"ID_006: [Game Boy Color] Pokémon Gold and Silver (1999) -genre: Role-playing -publisher: Nintendo - Second-generation Pokémon games introducing new regions, Pokémon, and gameplay mechanics.\"}', name='evaluate_retrieval'), type='function')])\n",
      " -> (role = tool, content = \"{'useful': True, 'description': \\\"The context explicitly states that Pok\\u00e9mon Gold and Silver were released in 1999, which directly answers the question about their release date. Additionally, it provides relevant background information about the games being second-generation Pok\\u00e9mon games for Game Boy Color, which supports the answer's accuracy.\\\", 'error': False}\", tool_calls = None)\n",
      " -> (role = assistant, content = [Summary of the answer]\n",
      "Pokémon Gold and Silver were released in 1999.\n",
      "\n",
      "[Detailed explanation]\n",
      "Pokémon Gold and Silver are second-generation Pokémon games that were released for the Game Boy Color platform. The release year for these games is 1999. These games introduced new regions, Pokémon, and gameplay mechanics, marking an important evolution in the Pokémon series.\n",
      "\n",
      "[List of retrieved documents]\n",
      "[ID_006]\n",
      "[Evaluation result]\n",
      "useful\n",
      "\n",
      "[Citation]\n",
      "None\n",
      "\n",
      "[Additional information]\n",
      "None, tool_calls = None)\n"
     ]
    }
   ],
   "source": [
    "simple_agent.memory.reset()\n",
    "query1 = \"When Pokémon Gold and Silver was released?\"\n",
    "\n",
    "run1 = simple_agent.invoke(query1)\n",
    "\n",
    "messages1 = run1.get_final_state()[\"messages\"]\n",
    "print_messages(messages1)"
   ]
  },
  {
   "cell_type": "code",
   "execution_count": 120,
   "id": "4a94c690fc5a81f3",
   "metadata": {
    "ExecuteTime": {
     "end_time": "2025-08-10T09:33:43.375295Z",
     "start_time": "2025-08-10T09:33:43.372782Z"
    }
   },
   "outputs": [
    {
     "name": "stdout",
     "output_type": "stream",
     "text": [
      "[Summary of the answer]\n",
      "Pokémon Gold and Silver were released in 1999.\n",
      "\n",
      "[Detailed explanation]\n",
      "Pokémon Gold and Silver are second-generation Pokémon games that were released for the Game Boy Color platform. The release year for these games is 1999. These games introduced new regions, Pokémon, and gameplay mechanics, marking an important evolution in the Pokémon series.\n",
      "\n",
      "[List of retrieved documents]\n",
      "[ID_006]\n",
      "[Evaluation result]\n",
      "useful\n",
      "\n",
      "[Citation]\n",
      "None\n",
      "\n",
      "[Additional information]\n",
      "None\n"
     ]
    }
   ],
   "source": [
    "print(messages1[-1].content)"
   ]
  },
  {
   "cell_type": "code",
   "execution_count": 121,
   "id": "ace562c1c78f3cec",
   "metadata": {
    "ExecuteTime": {
     "end_time": "2025-08-10T09:33:58.621516Z",
     "start_time": "2025-08-10T09:33:43.431209Z"
    }
   },
   "outputs": [
    {
     "name": "stdout",
     "output_type": "stream",
     "text": [
      "[StateMachine] Starting: __entry__\n",
      "[StateMachine] Executing step: message_prep\n",
      "[StateMachine] Executing step: llm_processor\n",
      "[StateMachine] Executing step: tool_executor\n",
      "[StateMachine] Executing step: llm_processor\n",
      "[StateMachine] Executing step: tool_executor\n",
      "[StateMachine] Executing step: llm_processor\n",
      "[StateMachine] Terminating: __termination__\n",
      " -> (role = system, content = You are a helpful assistant for searching and answering questions about video games.\n",
      "    You are given a tool to search the vector DB, a tool to evaluate the retrieved document, and a tool to search the web.\n",
      "    ---\n",
      "    Here are the guidelines for using the tools:\n",
      "    1. Always search the vector DB first.\n",
      "    2. Always evaluate the retrieved document using the evaluate tool.\n",
      "    3. If the tool to search the vector DB returns no useful result, search the web. Provide citation if searched from web.\n",
      "    ---\n",
      "    Output Format:\n",
      "    [Summary of the answer]\n",
      "        short summary of the answer\n",
      "    [Detailed explanation]\n",
      "        detailed explanation of the answer\n",
      "    [List of retrieved documents]\n",
      "        [List of retrieved document ID]\n",
      "            (ex: ID_001, ID_002, ID_003)\n",
      "        [Evaluation result]\n",
      "            whether the documents are enough to answer the question,\n",
      "            (ex: useful, not useful, useful)\n",
      "    [Citation]\n",
      "        [Link to the relevant web page]\n",
      "    [Additional information]\n",
      "        [Error message]\n",
      "        [Error code]\n",
      "        [Error details]\n",
      "        [Error traceback]\n",
      "    , tool_calls = None)\n",
      " -> (role = user, content = Which one was the first 3D platformer Mario game?, tool_calls = None)\n",
      " -> (role = assistant, content = None, tool_calls = [ChatCompletionMessageFunctionToolCall(id='call_EqLp1YTjorymxU4DTV00B21J', function=Function(arguments='{\"query\":\"first 3D platformer Mario game\"}', name='retrieve_game'), type='function')])\n",
      " -> (role = tool, content = \"[\\\"ID_009: [Nintendo 64] Super Mario 64 (1996) -genre: Platformer -publisher: Nintendo - A groundbreaking 3D platformer that set new standards for the genre, featuring Mario's quest to rescue Princess Peach.\\\", 'ID_008: [Super Nintendo Entertainment System (SNES)] Super Mario World (1990) -genre: Platformer -publisher: Nintendo - A classic platformer where Mario embarks on a quest to save Princess Toadstool and Dinosaur Land from Bowser.', 'ID_012: [Nintendo Switch] Mario Kart 8 Deluxe (2017) -genre: Racing -publisher: Nintendo - An enhanced version of Mario Kart 8, featuring new characters, tracks, and improved gameplay mechanics.']\", tool_calls = None)\n",
      " -> (role = assistant, content = None, tool_calls = [ChatCompletionMessageFunctionToolCall(id='call_Il3pU538dPOvIWJOyyV6o79t', function=Function(arguments='{\"query\":\"Which one was the first 3D platformer Mario game?\",\"retrieved_docs\":\"ID_009: [Nintendo 64] Super Mario 64 (1996) -genre: Platformer -publisher: Nintendo - A groundbreaking 3D platformer that set new standards for the genre, featuring Mario\\'s quest to rescue Princess Peach.\"}', name='evaluate_retrieval'), type='function')])\n",
      " -> (role = tool, content = \"{'useful': True, 'description': \\\"The context explicitly mentions 'Super Mario 64' as a groundbreaking 3D platformer released in 1996, which is widely recognized as the first 3D platformer Mario game. This information directly answers the question about which game was the first 3D platformer featuring Mario.\\\", 'error': False}\", tool_calls = None)\n",
      " -> (role = assistant, content = [Summary of the answer]\n",
      "The first 3D platformer Mario game was Super Mario 64.\n",
      "\n",
      "[Detailed explanation]\n",
      "Super Mario 64, released in 1996 for the Nintendo 64, is recognized as the first 3D platformer game featuring Mario. It was groundbreaking at the time for its 3D gameplay and set new standards for the platformer genre. The game involves Mario's quest to rescue Princess Peach, marking a significant evolution from the earlier 2D platformers in the Mario series.\n",
      "\n",
      "[List of retrieved documents]\n",
      "ID_009\n",
      "[Evaluation result]\n",
      "useful\n",
      "\n",
      "[Citation]\n",
      "No web citation needed as the information is well-known and confirmed by the retrieved document.\n",
      "\n",
      "[Additional information]\n",
      "None, tool_calls = None)\n"
     ]
    }
   ],
   "source": [
    "simple_agent.memory.reset()\n",
    "query2 = \"Which one was the first 3D platformer Mario game?\"\n",
    "\n",
    "run2 = simple_agent.invoke(query2)\n",
    "\n",
    "messages2 = run2.get_final_state()[\"messages\"]\n",
    "print_messages(messages2)"
   ]
  },
  {
   "cell_type": "code",
   "execution_count": 122,
   "id": "953f96643e8cbc97",
   "metadata": {
    "ExecuteTime": {
     "end_time": "2025-08-10T09:33:58.632211Z",
     "start_time": "2025-08-10T09:33:58.630263Z"
    }
   },
   "outputs": [
    {
     "name": "stdout",
     "output_type": "stream",
     "text": [
      "[Summary of the answer]\n",
      "The first 3D platformer Mario game was Super Mario 64.\n",
      "\n",
      "[Detailed explanation]\n",
      "Super Mario 64, released in 1996 for the Nintendo 64, is recognized as the first 3D platformer game featuring Mario. It was groundbreaking at the time for its 3D gameplay and set new standards for the platformer genre. The game involves Mario's quest to rescue Princess Peach, marking a significant evolution from the earlier 2D platformers in the Mario series.\n",
      "\n",
      "[List of retrieved documents]\n",
      "ID_009\n",
      "[Evaluation result]\n",
      "useful\n",
      "\n",
      "[Citation]\n",
      "No web citation needed as the information is well-known and confirmed by the retrieved document.\n",
      "\n",
      "[Additional information]\n",
      "None\n"
     ]
    }
   ],
   "source": [
    "print(messages2[-1].content)"
   ]
  },
  {
   "cell_type": "code",
   "execution_count": 123,
   "id": "5e7a2b020edadd45",
   "metadata": {
    "ExecuteTime": {
     "end_time": "2025-08-10T09:34:16.492488Z",
     "start_time": "2025-08-10T09:33:58.684101Z"
    }
   },
   "outputs": [
    {
     "name": "stdout",
     "output_type": "stream",
     "text": [
      "[StateMachine] Starting: __entry__\n",
      "[StateMachine] Executing step: message_prep\n",
      "[StateMachine] Executing step: llm_processor\n",
      "[StateMachine] Executing step: tool_executor\n",
      "[StateMachine] Executing step: llm_processor\n",
      "[StateMachine] Executing step: tool_executor\n",
      "[StateMachine] Executing step: llm_processor\n",
      "[StateMachine] Executing step: tool_executor\n",
      "[StateMachine] Executing step: llm_processor\n",
      "[StateMachine] Terminating: __termination__\n",
      " -> (role = system, content = You are a helpful assistant for searching and answering questions about video games.\n",
      "    You are given a tool to search the vector DB, a tool to evaluate the retrieved document, and a tool to search the web.\n",
      "    ---\n",
      "    Here are the guidelines for using the tools:\n",
      "    1. Always search the vector DB first.\n",
      "    2. Always evaluate the retrieved document using the evaluate tool.\n",
      "    3. If the tool to search the vector DB returns no useful result, search the web. Provide citation if searched from web.\n",
      "    ---\n",
      "    Output Format:\n",
      "    [Summary of the answer]\n",
      "        short summary of the answer\n",
      "    [Detailed explanation]\n",
      "        detailed explanation of the answer\n",
      "    [List of retrieved documents]\n",
      "        [List of retrieved document ID]\n",
      "            (ex: ID_001, ID_002, ID_003)\n",
      "        [Evaluation result]\n",
      "            whether the documents are enough to answer the question,\n",
      "            (ex: useful, not useful, useful)\n",
      "    [Citation]\n",
      "        [Link to the relevant web page]\n",
      "    [Additional information]\n",
      "        [Error message]\n",
      "        [Error code]\n",
      "        [Error details]\n",
      "        [Error traceback]\n",
      "    , tool_calls = None)\n",
      " -> (role = user, content = Was Mortal Kombat X realeased for Playstation 5?, tool_calls = None)\n",
      " -> (role = assistant, content = None, tool_calls = [ChatCompletionMessageFunctionToolCall(id='call_9B2IiJWRrycRmvyBAsuIyIGC', function=Function(arguments='{\"query\":\"Mortal Kombat X PlayStation 5 release\"}', name='retrieve_game'), type='function')])\n",
      " -> (role = tool, content = \"[\\\"ID_005: [PlayStation 5] Marvel's Spider-Man 2 (2023) -genre: Action-adventure -publisher: Sony Interactive Entertainment - The sequel to the acclaimed Spider-Man game, featuring both Peter Parker and Miles Morales as playable characters.\\\", \\\"ID_015: [Xbox Series X|S] Halo Infinite (2021) -genre: First-person shooter -publisher: Xbox Game Studios - The latest installment in the Halo franchise, featuring Master Chief's return in a new open-world setting.\\\", \\\"ID_004: [PlayStation 4] Marvel's Spider-Man (2018) -genre: Action-adventure -publisher: Sony Interactive Entertainment - An open-world superhero game that lets players swing through New York City as Spider-Man, battling iconic villains.\\\"]\", tool_calls = None)\n",
      " -> (role = assistant, content = None, tool_calls = [ChatCompletionMessageFunctionToolCall(id='call_Mwlr837n3oQhOWo3kBXoy7ar', function=Function(arguments='{\"query\":\"Was Mortal Kombat X released for Playstation 5?\",\"retrieved_docs\":\"ID_005: [PlayStation 5] Marvel\\'s Spider-Man 2 (2023) -genre: Action-adventure -publisher: Sony Interactive Entertainment - The sequel to the acclaimed Spider-Man game, featuring both Peter Parker and Miles Morales as playable characters.\\\\nID_015: [Xbox Series X|S] Halo Infinite (2021) -genre: First-person shooter -publisher: Xbox Game Studios - The latest installment in the Halo franchise, featuring Master Chief\\'s return in a new open-world setting.\\\\nID_004: [PlayStation 4] Marvel\\'s Spider-Man (2018) -genre: Action-adventure -publisher: Sony Interactive Entertainment - An open-world superhero game that lets players swing through New York City as Spider-Man, battling iconic villains.\"}', name='evaluate_retrieval'), type='function')])\n",
      " -> (role = tool, content = \"{'useful': False, 'description': \\\"The provided context includes information about games released on PlayStation 5, Xbox Series X|S, and PlayStation 4, specifically mentioning Marvel's Spider-Man 2, Halo Infinite, and Marvel's Spider-Man. However, there is no mention of Mortal Kombat X or its release status on PlayStation 5. Therefore, the context is insufficient to answer whether Mortal Kombat X was released for PlayStation 5.\\\", 'error': False}\", tool_calls = None)\n",
      " -> (role = assistant, content = None, tool_calls = [ChatCompletionMessageFunctionToolCall(id='call_WO5jqLX69SttnYSlcew65a2n', function=Function(arguments='{\"query\":\"Mortal Kombat X PlayStation 5 release\"}', name='game_web_search_tool'), type='function')])\n",
      " -> (role = tool, content = \"{'query': 'Mortal Kombat X PlayStation 5 release video game', 'follow_up_questions': None, 'answer': None, 'images': [], 'results': [{'url': 'https://gamefaqs.gamespot.com/ps4/802908-mortal-kombat-x/data', 'title': 'Mortal Kombat X Release Information for PlayStation 4', 'content': 'PCPS4PS5SwitchSwitch 2Xbox OneXbox SeriesMore Systems\\\\n   3DS\\\\n   Android\\\\n   Board / Card\\\\n   DS\\\\n   Game Boy Advance\\\\n   GameCube\\\\n   iOS\\\\n   Nintendo 64\\\\n   PlayStation\\\\n   PlayStation 2\\\\n   PlayStation 3\\\\n   PSP\\\\n   Super Nintendo\\\\n   Vita\\\\n   Wii\\\\n   Wii U\\\\n   Xbox 360\\\\n   See All 143...\\\\n\\\\nLog InSign Up\\\\n\\\\nGameFAQs\\\\n\\\\nBoardsNewsQ&ACommunityContributeGames\\\\n\\\\nMortal Kombat X \\u2013 Release Details\\\\n=================================\\\\n\\\\n### PlayStation 4 \\\\n\\\\nPCPlayStation 3Xbox 360Xbox One\\\\n\\\\nLog in to add games to your lists [...] Mortal Kombat X Release Information for PlayStation 4 - GameFAQs\\\\n\\\\n===============\\\\n\\\\n Menu\\\\n\\\\n   Home\\\\n   Boards\\\\n   News\\\\n   Q&A\\\\n   Community\\\\n   Contribute\\\\n   Games\\\\n\\\\n   3DS\\\\n   Android\\\\n   Board/Card\\\\n   iOS\\\\n   PC\\\\n   PlayStation 3\\\\n   PlayStation 4\\\\n   PlayStation 5\\\\n   Switch\\\\n   Switch 2\\\\n   Vita\\\\n   Xbox 360\\\\n   Xbox One\\\\n   Xbox Series\\\\n   More Systems [...] | AU | Warner Bros. Interactive Entertainment |  |  | 04/15/15 | R |\\\\n| Image 5 | Mortal Kombat X (Steel Case Edition) |\\\\n| AU | Warner Bros. Interactive Entertainment |  |  | 04/15/15 | R |', 'score': 0.5515985, 'raw_content': None}, {'url': 'https://www.polygon.com/2014/7/13/5895149/mortal-kombat-x-gameplay-video-raiden/', 'title': 'Mortal Kombat X introduces Raiden with 2 minutes of gameplay', 'content': \\\"# Polygon.com\\\\n\\\\nPolygon logo\\\\nPolygon logo\\\\n\\\\n# Mortal Kombat X introduces Raiden with 2 minutes of gameplay\\\\n\\\\n4\\\\n\\\\n### Related\\\\n\\\\nSamus Aran holds out her left arm, which is glowing with purple energy, in artwork from Metroid Prime 4: Beyond\\\\n\\\\n##### Metroid Prime 4 is real and playable later this month\\\\n\\\\nCaptain America, Kamala Khan, Doctor Doom, and Star Lord preparing to fight in Marvel Tokon.\\\\n\\\\n##### Marvel T\\u014dkon: Fighting Souls opens registration for PS5 closed beta [...] Raiden takes a lickin' from Kotal Kahn, too, but gets the better of him with his electrocution co \\u2014 uh, kombos, teleportation moves, lightning traps and fatality. This is graphic violence, but you probably expect that of Mortal Kombat. Still, don't watch if there's polite kompany over your shoulder.\\\\n\\\\nIGN has another video, of Ed Boon discussing Raiden and the game's design over the same video above. Consider it director's kommentary.\\\", 'score': 0.4233394, 'raw_content': None}, {'url': 'https://www.ign.com/wikis/playstation-5/List_of_PlayStation_5_Launch_Games', 'title': 'List of PlayStation 5 Launch Games', 'content': \\\"| Mortal Kombat 11 Ultimate (Releases November 17th) | 4K (Dynamic) | TBA | Yes, for specific modes | Yes\\\\\\\\, free for owners of previous MK11 versions |\\\\n| NBA 2K21 | TBA | TBA | No | Yes, for owners of the Mamba Forever Edition only |\\\\n| No Man's Sky | 4K | 60fps | Yes, cross-play and cross-generation play with cross-progression | Yes\\\\\\\\, free |\\\\n| Observer: System Redux | 4K | TBA | TBA | N/A |\\\\n| Planet Coaster: Console Edition | 4K | TBA | TBA | Yes\\\\\\\\, free | [...] ### PlayStation 5 Guide\\\\n\\\\n### Find in guide\\\\n\\\\n### Task Search\\\\n\\\\n## Checklists\\\\n\\\\nChecklist Creation\\\\n\\\\n# List of PlayStation 5 Launch Games\\\\n\\\\nThe Playstation 5 will launch on November 12th in the US, Canada, Japan, Mexico, Australia, New Zealand, and South Korea - and on November 19th in the rest of the world - while Sony has confirmed that the PS5 console will release with several first party launch games.\\\\n\\\\n# First Party PS5 Launch Games\\\\n\\\\n### Confirmed PlayStation 5 Games [...] | The Pathless | 4K (in Fidelity mode) | 60fps (in Performance mode) | TBA | TBA |\\\\n| Warhammer: Chaosbane - Slayer Edition | 4K | 60fps | N/A | No |\\\\n| Watch Dogs Legion | 4K | 30fps | Yes, with Ubisoft Connect | Yes\\\\\\\\, free |\\\", 'score': 0.39096457, 'raw_content': None}, {'url': 'https://www.ign.com/articles/2014/09/05/mortal-kombat-x-release-date-announced', 'title': 'Mortal Kombat X Release Date Announced', 'content': '### Site Themes\\\\n\\\\n### Change Region\\\\n\\\\n### More\\\\n\\\\n### News\\\\n\\\\n### Reviews\\\\n\\\\n### Discover\\\\n\\\\n### Videos\\\\n\\\\n### Account\\\\n\\\\n### 20Q #XX: undefined\\\\n\\\\n# Mortal Kombat X Release Date Announced\\\\n\\\\n## Goro offered as pre-order DLC.\\\\n\\\\n### More Mortal Kombat X\\\\n\\\\n### In This Article\\\\n\\\\nMortal Kombat X\\\\nESRB: Mature\\\\nXbox One\\\\nPlayStation 4\\\\nPC', 'score': 0.3655478, 'raw_content': None}, {'url': 'https://www.ign.com/games/mortal-kombat-x/videos', 'title': 'Mortal Kombat X [Videos]', 'content': \\\"PlayStation Plus Free Games for October 2021 Announced - IGN Daily Fix\\\\nEvery Mortal Kombat Fatality Ever\\\\nMortal Kombat: Scorpion vs Sub-Zero: The 27 Year Fight\\\\n5 Best Action Games with Xbox Game Pass\\\\nEvery IGN Mortal Kombat Review Ever\\\\nMortal Kombat Creator Ed Boon on the DICE Red Carpet - DICE 2018\\\\nEvery Mortal Kombat Character Ever\\\\nMortal Kombat Turns 25 Years Old\\\\nHow Street Fighter II Inspired Mortal Kombat's Fatalities - IGN Unfiltered [...] ### Site Themes\\\\n\\\\n### Change Region\\\\n\\\\n### More\\\\n\\\\n### News\\\\n\\\\n### Reviews\\\\n\\\\n### Discover\\\\n\\\\n### Videos\\\\n\\\\n### Account\\\\n\\\\n### 20Q #XX: undefined\\\\n\\\\nMortal Kombat X\\\\n\\\\n# Mortal Kombat X\\\\n\\\\nESRB: Mature\\\\nXbox One\\\\nPlayStation 4\\\\nPC\\\\n\\\\n### -\\\\n\\\\n### 7.7\\\\n\\\\n#### 6 hrs\\\\n\\\\n#### 17 hrs\\\\n\\\\n#### 67 hrs\\\\n\\\\n#### 9 hrs\\\\n\\\\n### Game Help\\\\n\\\\n### Mortal Kombat X Guide\\\\n\\\\n### Top Guide Sections\\\\n\\\\n### Images & Screenshots\\\\n\\\\n### Mortal Kombat X Review\\\\n\\\\nVince Ingenito Avatar Avatar\\\\nOfficial IGN Review\\\\n\\\\n### Summary\\\\n\\\\nESRB: Mature\\\\nXbox One\\\\nPlayStation 4\\\\nPC\\\\n\\\\n## [...] Mortal Kombat Co-Creator on Possibility of Street Fighter Crossover - IGN Unfiltered\\\", 'score': 0.34244013, 'raw_content': None}], 'response_time': 1.68}\", tool_calls = None)\n",
      " -> (role = assistant, content = [Summary of the answer]\n",
      "Mortal Kombat X was not released for PlayStation 5. It was originally released for PlayStation 4, Xbox One, and PC.\n",
      "\n",
      "[Detailed explanation]\n",
      "Based on the search results and available information, Mortal Kombat X was released for platforms including PlayStation 4, Xbox One, and PC. There is no indication or official release of Mortal Kombat X for the PlayStation 5 console. The game was launched before the PlayStation 5 existed, and no remastered or specific version for the PS5 has been documented.\n",
      "\n",
      "[List of retrieved documents]\n",
      "ID_005, ID_015, ID_004\n",
      "Evaluation result: not useful\n",
      "\n",
      "[Citation]\n",
      "https://gamefaqs.gamespot.com/ps4/802908-mortal-kombat-x/data, tool_calls = None)\n"
     ]
    }
   ],
   "source": [
    "simple_agent.memory.reset()\n",
    "query3 = \"Was Mortal Kombat X realeased for Playstation 5?\"\n",
    "\n",
    "run3 = simple_agent.invoke(query3)\n",
    "\n",
    "messages3 = run3.get_final_state()[\"messages\"]\n",
    "print_messages(messages3)"
   ]
  },
  {
   "cell_type": "code",
   "execution_count": 124,
   "id": "b8265860d07b9b49",
   "metadata": {
    "ExecuteTime": {
     "end_time": "2025-08-10T09:34:16.507522Z",
     "start_time": "2025-08-10T09:34:16.505541Z"
    }
   },
   "outputs": [
    {
     "name": "stdout",
     "output_type": "stream",
     "text": [
      "[Summary of the answer]\n",
      "Mortal Kombat X was not released for PlayStation 5. It was originally released for PlayStation 4, Xbox One, and PC.\n",
      "\n",
      "[Detailed explanation]\n",
      "Based on the search results and available information, Mortal Kombat X was released for platforms including PlayStation 4, Xbox One, and PC. There is no indication or official release of Mortal Kombat X for the PlayStation 5 console. The game was launched before the PlayStation 5 existed, and no remastered or specific version for the PS5 has been documented.\n",
      "\n",
      "[List of retrieved documents]\n",
      "ID_005, ID_015, ID_004\n",
      "Evaluation result: not useful\n",
      "\n",
      "[Citation]\n",
      "https://gamefaqs.gamespot.com/ps4/802908-mortal-kombat-x/data\n"
     ]
    }
   ],
   "source": [
    "print(messages3[-1].content)"
   ]
  },
  {
   "cell_type": "code",
   "execution_count": 125,
   "id": "5364f8d360c5dcb9",
   "metadata": {
    "ExecuteTime": {
     "end_time": "2025-08-10T09:34:34.785852Z",
     "start_time": "2025-08-10T09:34:16.559114Z"
    }
   },
   "outputs": [
    {
     "name": "stdout",
     "output_type": "stream",
     "text": [
      "[StateMachine] Starting: __entry__\n",
      "[StateMachine] Executing step: message_prep\n",
      "[StateMachine] Executing step: llm_processor\n",
      "[StateMachine] Executing step: tool_executor\n",
      "[StateMachine] Executing step: llm_processor\n",
      "[StateMachine] Executing step: tool_executor\n",
      "[StateMachine] Executing step: llm_processor\n",
      "[StateMachine] Executing step: tool_executor\n",
      "[StateMachine] Executing step: llm_processor\n",
      "[StateMachine] Terminating: __termination__\n",
      " -> (role = system, content = You are a helpful assistant for searching and answering questions about video games.\n",
      "    You are given a tool to search the vector DB, a tool to evaluate the retrieved document, and a tool to search the web.\n",
      "    ---\n",
      "    Here are the guidelines for using the tools:\n",
      "    1. Always search the vector DB first.\n",
      "    2. Always evaluate the retrieved document using the evaluate tool.\n",
      "    3. If the tool to search the vector DB returns no useful result, search the web. Provide citation if searched from web.\n",
      "    ---\n",
      "    Output Format:\n",
      "    [Summary of the answer]\n",
      "        short summary of the answer\n",
      "    [Detailed explanation]\n",
      "        detailed explanation of the answer\n",
      "    [List of retrieved documents]\n",
      "        [List of retrieved document ID]\n",
      "            (ex: ID_001, ID_002, ID_003)\n",
      "        [Evaluation result]\n",
      "            whether the documents are enough to answer the question,\n",
      "            (ex: useful, not useful, useful)\n",
      "    [Citation]\n",
      "        [Link to the relevant web page]\n",
      "    [Additional information]\n",
      "        [Error message]\n",
      "        [Error code]\n",
      "        [Error details]\n",
      "        [Error traceback]\n",
      "    , tool_calls = None)\n",
      " -> (role = user, content = Who developed FIFA 21, tool_calls = None)\n",
      " -> (role = assistant, content = None, tool_calls = [ChatCompletionMessageFunctionToolCall(id='call_NULQ5mloK5SeG7ivdo7S8mLa', function=Function(arguments='{\"query\":\"FIFA 21 developer\"}', name='retrieve_game'), type='function')])\n",
      " -> (role = tool, content = \"[\\\"ID_015: [Xbox Series X|S] Halo Infinite (2021) -genre: First-person shooter -publisher: Xbox Game Studios - The latest installment in the Halo franchise, featuring Master Chief's return in a new open-world setting.\\\", 'ID_003: [PlayStation 3] Gran Turismo 5 (2010) -genre: Racing -publisher: Sony Computer Entertainment - A comprehensive racing simulator featuring a vast selection of vehicles and tracks, with realistic driving physics.', 'ID_014: [Xbox One] Minecraft (2014) -genre: Sandbox, Survival -publisher: Mojang Studios - A sandbox game that allows players to build and explore infinite worlds, fostering creativity and adventure.']\", tool_calls = None)\n",
      " -> (role = assistant, content = None, tool_calls = [ChatCompletionMessageFunctionToolCall(id='call_FisGu6Jg8vzb2ePqowCvcmAx', function=Function(arguments='{\"query\":\"Who developed FIFA 21\",\"retrieved_docs\":\"ID_015: [Xbox Series X|S] Halo Infinite (2021) -genre: First-person shooter -publisher: Xbox Game Studios - The latest installment in the Halo franchise, featuring Master Chief\\'s return in a new open-world setting.\\\\nID_003: [PlayStation 3] Gran Turismo 5 (2010) -genre: Racing -publisher: Sony Computer Entertainment - A comprehensive racing simulator featuring a vast selection of vehicles and tracks, with realistic driving physics.\\\\nID_014: [Xbox One] Minecraft (2014) -genre: Sandbox, Survival -publisher: Mojang Studios - A sandbox game that allows players to build and explore infinite worlds, fostering creativity and adventure.\"}', name='evaluate_retrieval'), type='function')])\n",
      " -> (role = tool, content = \"{'useful': False, 'description': 'The provided context includes information about Halo Infinite, Gran Turismo 5, and Minecraft, including their genres, publishers, and release years. However, none of these entries mention FIFA 21 or its developer. Therefore, the context is insufficient to answer the question about who developed FIFA 21.', 'error': False}\", tool_calls = None)\n",
      " -> (role = assistant, content = None, tool_calls = [ChatCompletionMessageFunctionToolCall(id='call_znpyen690MHDPoGWctmpmhuY', function=Function(arguments='{\"query\":\"FIFA 21 developer\"}', name='game_web_search_tool'), type='function')])\n",
      " -> (role = tool, content = \"{'query': 'FIFA 21 developer video game', 'follow_up_questions': None, 'answer': None, 'images': [], 'results': [{'url': 'https://www.eurogamer.net/heres-our-first-look-at-fifa-21s-football-manager-style-career-mode', 'title': \\\"There's more than a bit of Football Manager in FIFA 21's ...\\\", 'content': 'After the disastrous launch of FIFA 20\\\\'s Career Mode, EA Sports has added a raft of new features for this year\\\\'s version, chief among them a Football Manager-style interactive match sim. With this interactive match sim, you\\\\'re able to switch between the standard FIFA match view and this new sim view at will. [...] \\\"We worked together with the gameplay team to build an amazing new feature that bridges the gap between playing matches and simulating matches,\\\" Alex Constantinescu, senior game designer on the FIFA team, told Eurogamer during a recent virtual preview. [...] EA is selling FIFA 21 cosmetics outside loot boxes for the first time\\\\n\\\\nFIFA 21 hits EA Play and Xbox Game Pass in May\\\\n\\\\nJelly Deals |\\\\nAmazon\\\\'s Black Friday 2020 sale covers Watch Dogs Legion and more\\\\n\\\\nEA denies it\\\\'s \\\"pushing\\\" FIFA players to spend on loot boxes after insider leaks marketing documents\\\\n\\\\nOpinion |\\\\nFootball really could learn from video games, if it bothered to understand them', 'score': 0.5084226, 'raw_content': None}, {'url': 'https://www.gamesradar.com/fifa-21-debuts-first-next-gen-screenshots/', 'title': 'FIFA 21 debuts first next-gen screenshots', 'content': 'GamesRadar+ is part of Future US Inc, an international media group and leading digital publisher. Visit our corporate site.\\\\n\\\\n\\u00a9\\\\nFuture US, Inc. Full 7th Floor, 130 West 42nd Street,\\\\nNew York,\\\\nNY 10036.\\\\n\\\\nPlease login or signup to comment\\\\n\\\\nPlease wait... [...] You can check out the two screenshots for yourself just below. FIFA 21 is out right now, having launched back in early October, but right now it only works on PS5, Xbox Series X, and Xbox Series S through backwards compatibility. EA\\\\'s soccer sim will receive a full next-gen upgrade for free next month on December 4.\\\\n\\\\n\\ud835\\ude41\\ud835\\ude5a\\ud835\\ude5a\\ud835\\ude61 \\ud835\\ude49\\ud835\\ude5a\\ud835\\ude6d\\ud835\\ude69 \\ud835\\ude47\\ud835\\ude5a\\ud835\\ude6b\\ud835\\ude5a\\ud835\\ude61 when #FIFA21 arrives on PS5 & Xbox Series X|S on December 4th. Buy now, and upgrade for free:  pic.twitter.com/ibbeTzplLMNovember 10, 2020 [...] \\\"When we start developing for a new generation of consoles, there\\\\'s ultimately some trade-offs we need to make,\\\" said FIFA 21 executive Aaron McHardy of the game\\\\'s cross-gen progress. \\\"So we decided that the time required to make all modes transferable was better used to build new features and improvements across the entire game, along with addressing feedback from our players. Since both Volta and FUT are server-based modes it made sense for us to focus on them as a way for players to carry', 'score': 0.4617697, 'raw_content': None}, {'url': 'https://www.eurogamer.net/fifa-21-review-high-scoring-fun-marred-by-pay-to-win-loot-boxes-again', 'title': 'FIFA 21 review: high-scoring fun marred by pay-to-win loot ...', 'content': 'I\\\\'m having fun with FIFA 21. EA has made significant improvements to how the game plays on the pitch, added welcome quality of life tweaks, and given Career Mode - much maligned in last year\\\\'s game - a Football Manager-inspired makeover. But none of this masks the fact FIFA 21 lacks a big ticket new mode or feature, and that old evil, Ultimate Team loot boxes, are just as evil as they\\\\'ve always been.\\\\n\\\\n## FIFA 21 [...] I\\\\'d call the whole thing entirely unrealistic - and let\\\\'s remember EA is trying to create a football simulation here - but given recent results in the Premier League perhaps the developers knew the way the wind was blowing and thought they\\\\'d let their hair down. The upshot is FIFA 21 is at this early stage a lot of fun, as it is watching the Premier League this season, but let\\\\'s be honest, the defending is atrocious and everyone just needs to calm down a bit. There are so many goals flying in [...] EA is selling FIFA 21 cosmetics outside loot boxes for the first time\\\\n\\\\nFIFA 21 hits EA Play and Xbox Game Pass in May\\\\n\\\\nJelly Deals |\\\\nAmazon\\\\'s Black Friday 2020 sale covers Watch Dogs Legion and more\\\\n\\\\nEA denies it\\\\'s \\\"pushing\\\" FIFA players to spend on loot boxes after insider leaks marketing documents\\\\n\\\\nOpinion |\\\\nFootball really could learn from video games, if it bothered to understand them', 'score': 0.4120811, 'raw_content': None}, {'url': 'https://www.ign.com/articles/fifa-21-review', 'title': 'FIFA 21 Review', 'content': \\\"Reviewed by Peer Schneider<br>April 1, 1997<br>I would recommend buying this only if you can't live without a soccer game and need one now. Otherwise I'd say, make it a Blockbuster Night and wait two months for Konami's International Super Star Soccer (Perfect Striker), which beats FIFA 64 in all categories -- and doesn't even need a second half-time for it. What a disappointment. [...] Reviewed by Adam Douglas<br>November 21, 1996<br>For pure soccer realism, you'd be hard pressed to find another game as deep as this one. All of the major soccer-playing countries' teams are represented here, complete with stats and everything else you could hope for. Player control is a dream. You can head, pass, block, and tackle with ease, and every play has just enough realism added to make it authentic but still exciting. The announcing is smooth, accurate, and actually adds to the game, [...] Through small tweaks and refinements, FIFA 21 plays as well as it has done in recent memory, but lacks the relatively big features that are usually used to justify a new version of an annually released game. Attacking is fun and fluid, defending is a real challenge and an art to master, but goalkeeping leaves a lot to be desired and the AI is inconsistent in several ways. Career Mode has received small enjoyable additions but has not seen the overhaul I\\u2019m still wishing for and feels like an\\\", 'score': 0.40613216, 'raw_content': None}, {'url': 'https://www.ign.com/games/fifa-21-next-level-edition/gameplay', 'title': 'FIFA 21: Next Level Edition [Gameplay]', 'content': '### Site Themes\\\\n\\\\n### Change Region\\\\n\\\\n### More\\\\n\\\\n### News\\\\n\\\\n### Reviews\\\\n\\\\n### Discover\\\\n\\\\n### Videos\\\\n\\\\n### Account\\\\n\\\\n### 20Q #XX: undefined\\\\n\\\\nFIFA 21: Next Level Edition\\\\n\\\\n# FIFA 21: Next Level Edition\\\\n\\\\nPlayStation 5\\\\nXbox Series X|S\\\\n\\\\n### -\\\\n\\\\n### 7.7\\\\n\\\\n### Images & Screenshots\\\\n\\\\n### Summary\\\\n\\\\nPlayStation 5\\\\nXbox Series X|S\\\\n\\\\n## \\\\n\\\\nFIFA 21 - Kiyan Prince Gameplay\\\\nFIFA 21: PS5 Upgrade Gameplay (4K 60fps)\\\\nWatch a Full Match of FIFA 21 Gameplay', 'score': 0.33855858, 'raw_content': None}], 'response_time': 1.51}\", tool_calls = None)\n",
      " -> (role = assistant, content = [Summary of the answer]\n",
      "FIFA 21 was developed by EA Sports.\n",
      "\n",
      "[Detailed explanation]\n",
      "From the web search results, it is known that FIFA 21 is a football simulation video game developed by EA Sports. EA Sports is a division of Electronic Arts that specializes in sports games, including the FIFA series. The search results mention features and updates related to FIFA 21 and include comments from members of the EA Sports team, confirming that EA Sports developed FIFA 21.\n",
      "\n",
      "[List of retrieved documents]\n",
      "[\"https://www.eurogamer.net/heres-our-first-look-at-fifa-21s-football-manager-style-career-mode\", \"https://www.gamesradar.com/fifa-21-debuts-first-next-gen-screenshots/\", \"https://www.eurogamer.net/fifa-21-review-high-scoring-fun-marred-by-pay-to-win-loot-boxes-again\", \"https://www.ign.com/articles/fifa-21-review\", \"https://www.ign.com/games/fifa-21-next-level-edition/gameplay\"]\n",
      "[Evaluation result]\n",
      "useful\n",
      "\n",
      "[Citation]\n",
      "https://www.eurogamer.net/heres-our-first-look-at-fifa-21s-football-manager-style-career-mode, tool_calls = None)\n"
     ]
    }
   ],
   "source": [
    "simple_agent.memory.reset()\n",
    "query4 = \"Who developed FIFA 21\"\n",
    "\n",
    "run4 = simple_agent.invoke(query4)\n",
    "\n",
    "messages4 = run4.get_final_state()[\"messages\"]\n",
    "print_messages(messages4)"
   ]
  },
  {
   "cell_type": "code",
   "execution_count": 126,
   "id": "1de4a61fc7242b06",
   "metadata": {
    "ExecuteTime": {
     "end_time": "2025-08-10T09:34:34.795829Z",
     "start_time": "2025-08-10T09:34:34.793732Z"
    }
   },
   "outputs": [
    {
     "name": "stdout",
     "output_type": "stream",
     "text": [
      "[Summary of the answer]\n",
      "FIFA 21 was developed by EA Sports.\n",
      "\n",
      "[Detailed explanation]\n",
      "From the web search results, it is known that FIFA 21 is a football simulation video game developed by EA Sports. EA Sports is a division of Electronic Arts that specializes in sports games, including the FIFA series. The search results mention features and updates related to FIFA 21 and include comments from members of the EA Sports team, confirming that EA Sports developed FIFA 21.\n",
      "\n",
      "[List of retrieved documents]\n",
      "[\"https://www.eurogamer.net/heres-our-first-look-at-fifa-21s-football-manager-style-career-mode\", \"https://www.gamesradar.com/fifa-21-debuts-first-next-gen-screenshots/\", \"https://www.eurogamer.net/fifa-21-review-high-scoring-fun-marred-by-pay-to-win-loot-boxes-again\", \"https://www.ign.com/articles/fifa-21-review\", \"https://www.ign.com/games/fifa-21-next-level-edition/gameplay\"]\n",
      "[Evaluation result]\n",
      "useful\n",
      "\n",
      "[Citation]\n",
      "https://www.eurogamer.net/heres-our-first-look-at-fifa-21s-football-manager-style-career-mode\n"
     ]
    }
   ],
   "source": [
    "print(messages4[-1].content)"
   ]
  },
  {
   "cell_type": "code",
   "execution_count": 127,
   "id": "45225777ca247c2f",
   "metadata": {
    "ExecuteTime": {
     "end_time": "2025-08-10T09:34:45.859039Z",
     "start_time": "2025-08-10T09:34:34.845296Z"
    }
   },
   "outputs": [
    {
     "name": "stdout",
     "output_type": "stream",
     "text": [
      "[StateMachine] Starting: __entry__\n",
      "[StateMachine] Executing step: message_prep\n",
      "[StateMachine] Executing step: llm_processor\n",
      "[StateMachine] Executing step: tool_executor\n",
      "[StateMachine] Executing step: llm_processor\n",
      "[StateMachine] Executing step: tool_executor\n",
      "[StateMachine] Executing step: llm_processor\n",
      "[StateMachine] Terminating: __termination__\n",
      " -> (role = system, content = You are a helpful assistant for searching and answering questions about video games.\n",
      "    You are given a tool to search the vector DB, a tool to evaluate the retrieved document, and a tool to search the web.\n",
      "    ---\n",
      "    Here are the guidelines for using the tools:\n",
      "    1. Always search the vector DB first.\n",
      "    2. Always evaluate the retrieved document using the evaluate tool.\n",
      "    3. If the tool to search the vector DB returns no useful result, search the web. Provide citation if searched from web.\n",
      "    ---\n",
      "    Output Format:\n",
      "    [Summary of the answer]\n",
      "        short summary of the answer\n",
      "    [Detailed explanation]\n",
      "        detailed explanation of the answer\n",
      "    [List of retrieved documents]\n",
      "        [List of retrieved document ID]\n",
      "            (ex: ID_001, ID_002, ID_003)\n",
      "        [Evaluation result]\n",
      "            whether the documents are enough to answer the question,\n",
      "            (ex: useful, not useful, useful)\n",
      "    [Citation]\n",
      "        [Link to the relevant web page]\n",
      "    [Additional information]\n",
      "        [Error message]\n",
      "        [Error code]\n",
      "        [Error details]\n",
      "        [Error traceback]\n",
      "    , tool_calls = None)\n",
      " -> (role = user, content = When was God of War Ragnarok released?, tool_calls = None)\n",
      " -> (role = assistant, content = None, tool_calls = [ChatCompletionMessageFunctionToolCall(id='call_H06k22rFjk1x9AAuh8LW3AVS', function=Function(arguments='{\"query\":\"God of War Ragnarok release date\"}', name='retrieve_game'), type='function')])\n",
      " -> (role = tool, content = \"[\\\"ID_004: [PlayStation 4] Marvel's Spider-Man (2018) -genre: Action-adventure -publisher: Sony Interactive Entertainment - An open-world superhero game that lets players swing through New York City as Spider-Man, battling iconic villains.\\\", \\\"ID_005: [PlayStation 5] Marvel's Spider-Man 2 (2023) -genre: Action-adventure -publisher: Sony Interactive Entertainment - The sequel to the acclaimed Spider-Man game, featuring both Peter Parker and Miles Morales as playable characters.\\\", 'ID_012: [Nintendo Switch] Mario Kart 8 Deluxe (2017) -genre: Racing -publisher: Nintendo - An enhanced version of Mario Kart 8, featuring new characters, tracks, and improved gameplay mechanics.']\", tool_calls = None)\n",
      " -> (role = assistant, content = None, tool_calls = [ChatCompletionMessageFunctionToolCall(id='call_XU5dYzuOG4vUHRv62sE9Lbxf', function=Function(arguments='{\"query\":\"God of War Ragnarok release date\"}', name='game_web_search_tool'), type='function')])\n",
      " -> (role = tool, content = \"{'query': 'God of War Ragnarok release date video game', 'follow_up_questions': None, 'answer': None, 'images': [], 'results': [{'url': 'https://www.eurogamer.net/god-of-war-ragnarok-pc-release-date-time', 'title': 'God of War Ragnar\\u00f6k PC release date and time - Eurogamer', 'content': \\\"## God of War Ragnar\\u00f6k PC release date and time\\\\n\\\\nThe PC version of God of War Ragnar\\u00f6k releases on Thursday 19th September at 4pm (BST) / 11am (ET). It is available to download from Steam and the Epic Games Store, but you must link a PlayStation Network Account in order to play it.\\\\n\\\\nIn other timezones, the God of War Ragnar\\u00f6k PC release date and time is:\\\\n\\\\nHere's a picture of the release times, if you prefer to see it that way: [...] Eurogamer.net\\\\nPC\\\\nPlayStation\\\\nXbox\\\\nNintendo\\\\n\\\\n# God of War Ragnar\\u00f6k PC release date and time\\\\n\\\\nHere's when Ragnar\\u00f6k unlocks on Steam and the Epic Games Store.\\\\n\\\\nKratos in God of War Ragnarok looking off the the left in front of a night sky with lightning in the background.\\\\nJessica Orr avatar\\\\n\\\\nGod of War Ragnar\\u00f6k is finally coming to PC, with enhanced visual features, and the free Valhalla DLC also included at launch. [...] \\u00a9 2025 Eurogamer.net a brand of IGN Entertainment, Inc. All rights reserved. 18 Mansell Street Level 3, London, E1 8AA, United Kingdom. No part of this website or its content may be reproduced without the copyright owner's permission. Eurogamer is a registered trademark of Gamer Network Limited.\\\\n\\\\nAdChoices Opt-Out Icon\\\", 'score': 0.9041187, 'raw_content': None}, {'url': 'https://www.polygon.com/23068988/god-of-war-ragnarok-release-date-ps5-ps4/', 'title': 'God of War Ragnarok release date announced with new ...', 'content': 'God of War Ragnarok, the sequel to 2018\\u2019s soft reboot for god-slaying dad Kratos, is coming later this year, PlayStation Studios developer Santa Monica Studio confirmed on Wednesday. The PlayStation 4 and PlayStation 5 game is now slated for release on Nov. 9. Ragnarok was previously slated for a 2022 release window after being delayed out of 2021. [...] God of War Ragnarok is said to be the finale of the franchise\\u2019s Norse saga, which started with 2018\\u2019s adventure for Kratos and Atreus, God of War. Prior to that game, Kratos hacked his way through the Greek pantheon of gods using great vengeance and furious anger over the course of six games released across PlayStation 2, PlayStation 3, and PlayStation Portable.\\\\n\\\\nMother Nature (a green-skinned NPC Sim) offers a potion to a human Sim. [...] # Polygon.com\\\\n\\\\nPolygon logo\\\\nPolygon logo\\\\n\\\\nSony\\u2019s long-awaited God of War sequel arrives later this year\\\\n\\\\n# God of War Ragnarok launches in November, watch the new trailer\\\\n\\\\n4\\\\n4\\\\n\\\\n### Related\\\\n\\\\nJohn Cena in full Peacemaker gear in a still from the Peacemaker show\\\\n\\\\n##### James Gunn wants to recast this DCU actor he killed in Peacemaker\\\\n\\\\nA screenshot of the original BioShock showing the No Gods or Kings. Only Man. flag.\\\\n\\\\n##### The next BioShock just got a big shakeup', 'score': 0.89720124, 'raw_content': None}, {'url': 'https://www.ign.com/articles/god-of-war-ragnarok-pc-specs-revealed-by-playstation', 'title': 'God of War: Ragnarok PC Specs Revealed by PlayStation', 'content': '### Site Themes\\\\n\\\\n### Change Region\\\\n\\\\n### More\\\\n\\\\n### News\\\\n\\\\n### Reviews\\\\n\\\\n### Discover\\\\n\\\\n### Videos\\\\n\\\\n### Account\\\\n\\\\n### 20Q #XX: undefined\\\\n\\\\n# God of War: Ragnarok PC Specs Revealed by PlayStation\\\\n\\\\n## Oh boy.\\\\n\\\\nPlayStation has revealed the PC requirements for the highly anticipated God of War Ragnarok ahead of its September 19 release date.', 'score': 0.81489426, 'raw_content': None}, {'url': 'https://www.ign.com/games/god-of-war-ragnarok', 'title': 'God of War: Ragnarok', 'content': 'If you buy through our links, IGN may earn an affiliate commission.Learn more.\\\\n\\\\nImage 3: God of War: Ragnarok\\\\n\\\\nGod of War: Ragnarok\\\\n====================\\\\n\\\\nSanta Monica Studio\\\\n\\\\n\\u2022Nov 9, 2022\\u2022\\\\n\\\\nImage 4: ESRB: Mature\\\\n\\\\n\\u2022\\\\n\\\\nImage 5: PCImage 6: PlayStation 4Image 7: PlayStation 5\\\\n\\\\n10 IGN Rating\\\\n\\\\n### -\\\\n\\\\nRate Game\\\\n\\\\n### 9.4 8.0k Ratings14 See Leaderboard\\\\n\\\\nAre You Playing?Rate Game\\\\n\\\\nSee it at Best Buy\\\\n\\\\nOverviewPlaylistsMapsChecklistsReviews\\\\n\\\\nHowLongToBeat\\\\n\\\\n#### 27 hrs\\\\n\\\\nMain Story\\\\n\\\\n#### 41 hrs [...] Image 31: God of War Ragnarok - Official 20th Anniversary Dark Odyssey Collection In-Game Cosmetics Trailer0:23 Mar 20, 2025 God of War Ragnarok - Official 20th Anniversary Dark Odyssey Collection In-Game Cosmetics Trailer Mar 20, 2025 - Released in an update for all players for free to celebrate 20 years of God of War. [God of War: Ragnarok 4]( [...] Image 33: PlayStation Celebrates 20 Years of God of War With Dark Odyssey Ragnarok Update and Other Goodies for Fans Mar 14, 2025 PlayStation Celebrates 20 Years of God of War With Dark Odyssey Ragnarok Update and Other Goodies for Fans Mar 14, 2025 - Ares! [God of War: RagnarokMichael Cripe 84](', 'score': 0.80126834, 'raw_content': None}, {'url': 'https://www.ign.com/wikis/god-of-war-ragnarok/Walkthrough', 'title': 'Walkthrough - God of War Ragnarok Guide', 'content': \\\"The God of War Ragnarok New Game+ (NG+) mode was released on April 5, 2023 as free DLC. This post-endgame mode is unlocked once you beat God of War Ragnarok on any difficulty. After unlocking the mode, you can start a new game with items and stats carried over from your previous save, and many things exclusive to New Game+ mode have been added as well, including armors, enchantments, resources, and endgame bosses.\\\\n\\\\n   See:New Game Plus Mode for all unlockables and details on this added mode. [...] IGN's God of War Ragnarok complete strategy guide and walkthrough will lead you through every step of the main story from the title screen to the final credits, including tips for conquering enemies and defeating challenging bosses, solutions to every puzzle, and the locations of all collectibles that Kratos and Atreus will encounter along their journey through the nine realms and regions.\\\\n\\\\nFree DLC added New Game Plus Mode (NG+) to God of War Ragnarok on April 5, 2023. [...] Beginner's Guide - Tips for Getting Started\\\\n   Walkthrough\\\\n   Valhalla DLC - Overview and Guide\\\\n   The Best Skills and Armor to Get First\\\\n\\\\n### Was this guide helpful?\\\\n\\\\nLeave feedback\\\\n\\\\n### In This Guide\\\\n\\\\nImage 25: God of War: Ragnarok\\\\n\\\\nGod of War: Ragnarok\\\\n\\\\nSanta Monica StudioNov 9, 2022\\\\n\\\\n\\\\n\\\\n\\\\n\\\\nLearn more\\\\n\\\\nGo to comments\\\", 'score': 0.72814995, 'raw_content': None}], 'response_time': 1.12}\", tool_calls = None)\n",
      " -> (role = assistant, content = [Summary of the answer]\n",
      "God of War Ragnarok was released on November 9, 2022.\n",
      "\n",
      "[Detailed explanation]\n",
      "God of War Ragnarok, the sequel to the 2018 God of War game, was officially released for PlayStation 4 and PlayStation 5 on November 9, 2022. This release date was confirmed by the developer Santa Monica Studio. Later, the game was also made available on PC, with the PC version releasing on September 19, 2024.\n",
      "\n",
      "[List of retrieved documents]\n",
      "[ID_004, ID_005, ID_012]\n",
      "[Evaluation result]\n",
      "not useful\n",
      "\n",
      "[Citation]\n",
      "https://www.polygon.com/23068988/god-of-war-ragnarok-release-date-ps5-ps4/\n",
      "https://www.eurogamer.net/god-of-war-ragnarok-pc-release-date-time\n",
      "\n",
      "[Additional information]\n",
      "None, tool_calls = None)\n"
     ]
    }
   ],
   "source": [
    "simple_agent.memory.reset()\n",
    "\n",
    "run5 = simple_agent.invoke(\"When was God of War Ragnarok released?\")\n",
    "\n",
    "messages5 = run5.get_final_state()[\"messages\"]\n",
    "print_messages(messages5)"
   ]
  },
  {
   "cell_type": "code",
   "execution_count": 128,
   "id": "1e7a3a298afa21bd",
   "metadata": {
    "ExecuteTime": {
     "end_time": "2025-08-10T09:34:45.871583Z",
     "start_time": "2025-08-10T09:34:45.869560Z"
    }
   },
   "outputs": [
    {
     "name": "stdout",
     "output_type": "stream",
     "text": [
      "[Summary of the answer]\n",
      "God of War Ragnarok was released on November 9, 2022.\n",
      "\n",
      "[Detailed explanation]\n",
      "God of War Ragnarok, the sequel to the 2018 God of War game, was officially released for PlayStation 4 and PlayStation 5 on November 9, 2022. This release date was confirmed by the developer Santa Monica Studio. Later, the game was also made available on PC, with the PC version releasing on September 19, 2024.\n",
      "\n",
      "[List of retrieved documents]\n",
      "[ID_004, ID_005, ID_012]\n",
      "[Evaluation result]\n",
      "not useful\n",
      "\n",
      "[Citation]\n",
      "https://www.polygon.com/23068988/god-of-war-ragnarok-release-date-ps5-ps4/\n",
      "https://www.eurogamer.net/god-of-war-ragnarok-pc-release-date-time\n",
      "\n",
      "[Additional information]\n",
      "None\n"
     ]
    }
   ],
   "source": [
    "print(messages5[-1].content)"
   ]
  },
  {
   "cell_type": "code",
   "execution_count": 129,
   "id": "812837ab3960d79b",
   "metadata": {
    "ExecuteTime": {
     "end_time": "2025-08-10T09:35:06.759193Z",
     "start_time": "2025-08-10T09:34:45.938682Z"
    }
   },
   "outputs": [
    {
     "name": "stdout",
     "output_type": "stream",
     "text": [
      "[StateMachine] Starting: __entry__\n",
      "[StateMachine] Executing step: message_prep\n",
      "[StateMachine] Executing step: llm_processor\n",
      "[StateMachine] Executing step: tool_executor\n",
      "[StateMachine] Executing step: llm_processor\n",
      "[StateMachine] Executing step: tool_executor\n",
      "[StateMachine] Executing step: llm_processor\n",
      "[StateMachine] Executing step: tool_executor\n",
      "[StateMachine] Executing step: llm_processor\n",
      "[StateMachine] Terminating: __termination__\n",
      " -> (role = system, content = You are a helpful assistant for searching and answering questions about video games.\n",
      "    You are given a tool to search the vector DB, a tool to evaluate the retrieved document, and a tool to search the web.\n",
      "    ---\n",
      "    Here are the guidelines for using the tools:\n",
      "    1. Always search the vector DB first.\n",
      "    2. Always evaluate the retrieved document using the evaluate tool.\n",
      "    3. If the tool to search the vector DB returns no useful result, search the web. Provide citation if searched from web.\n",
      "    ---\n",
      "    Output Format:\n",
      "    [Summary of the answer]\n",
      "        short summary of the answer\n",
      "    [Detailed explanation]\n",
      "        detailed explanation of the answer\n",
      "    [List of retrieved documents]\n",
      "        [List of retrieved document ID]\n",
      "            (ex: ID_001, ID_002, ID_003)\n",
      "        [Evaluation result]\n",
      "            whether the documents are enough to answer the question,\n",
      "            (ex: useful, not useful, useful)\n",
      "    [Citation]\n",
      "        [Link to the relevant web page]\n",
      "    [Additional information]\n",
      "        [Error message]\n",
      "        [Error code]\n",
      "        [Error details]\n",
      "        [Error traceback]\n",
      "    , tool_calls = None)\n",
      " -> (role = user, content = What is Rockstar Games working on right now?, tool_calls = None)\n",
      " -> (role = assistant, content = None, tool_calls = [ChatCompletionMessageFunctionToolCall(id='call_BZXVFBMU1Zp6SbPAe3zGN909', function=Function(arguments='{\"query\":\"current projects of Rockstar Games\"}', name='retrieve_game'), type='function')])\n",
      " -> (role = tool, content = \"[\\\"ID_002: [PlayStation 2] Grand Theft Auto: San Andreas (2004) -genre: Action-adventure -publisher: Rockstar Games - An expansive open-world game set in the fictional state of San Andreas, following the story of Carl 'CJ' Johnson.\\\", 'ID_003: [PlayStation 3] Gran Turismo 5 (2010) -genre: Racing -publisher: Sony Computer Entertainment - A comprehensive racing simulator featuring a vast selection of vehicles and tracks, with realistic driving physics.', 'ID_014: [Xbox One] Minecraft (2014) -genre: Sandbox, Survival -publisher: Mojang Studios - A sandbox game that allows players to build and explore infinite worlds, fostering creativity and adventure.']\", tool_calls = None)\n",
      " -> (role = assistant, content = None, tool_calls = [ChatCompletionMessageFunctionToolCall(id='call_Hw1RYo4gBssx2QSD2qA8V9m8', function=Function(arguments='{\"query\":\"current projects of Rockstar Games\",\"retrieved_docs\":\"ID_002: [PlayStation 2] Grand Theft Auto: San Andreas (2004) -genre: Action-adventure -publisher: Rockstar Games - An expansive open-world game set in the fictional state of San Andreas, following the story of Carl \\'CJ\\' Johnson.\"}', name='evaluate_retrieval'), type='function')])\n",
      " -> (role = tool, content = \"{'useful': False, 'description': 'The provided context describes a past game, Grand Theft Auto: San Andreas, released in 2004 by Rockstar Games. It does not contain any information about the current projects of Rockstar Games, which is the focus of the question. Therefore, this context is not useful for answering the question about current projects.', 'error': False}\", tool_calls = None)\n",
      " -> (role = assistant, content = None, tool_calls = [ChatCompletionMessageFunctionToolCall(id='call_wXSgMMw0GZW8PsYLpdS8POA1', function=Function(arguments='{\"query\":\"Rockstar Games current projects 2024\"}', name='game_web_search_tool'), type='function')])\n",
      " -> (role = tool, content = \"{'query': 'Rockstar Games current projects 2024 video game', 'follow_up_questions': None, 'answer': None, 'images': [], 'results': [{'url': 'https://www.gamesradar.com/rockstar-owner-hints-at-potential-2024-launch-for-gta-6/', 'title': 'Rockstar owner hints at potential 2024 launch for GTA 6', 'content': '\\\"In Fiscal 2025, we expect to enter this new era by launching several groundbreaking titles that we believe will set new standards in our industry and enable us to achieve over $8 billion in Net Bookings and over $1 billion in Adjusted Unrestricted Operating Cash Flow,\\\" the report reads. \\\"We expect to sustain this momentum by delivering additional growth in our operating results in Fiscal 2026 and beyond.\\\"\\\\n\\\\nGTA 6\\\\nGTA 6\\\\nGTA 4 [...] \\\"Fiscal 2025 is a highly anticipated year for our Company,\\\" Take-Two adds. \\\"For the last several years, we have been preparing our business to release an incredibly robust pipeline of projects that we believe will take our company to even greater levels of success.\\\" [...] $8 billion in annual net bookings represents a substantial increase over Take-Two\\\\'s typical year. The company reported $5.35 billion in FY23 and predicts roughly $5.42 billion for FY24, so FY25 guidance is currently banking on a jump of about $3 billion, and that\\\\'s getting into the realm of GTA money.', 'score': 0.8095324, 'raw_content': None}, {'url': 'https://www.ign.com/articles/all-rockstar-games', 'title': 'Every Rockstar Game Ever Released: A Full History', 'content': '## Upcoming Rockstar Games\\\\n\\\\nRockstar has confirmed two projects in the pipeline: Grand Theft Auto 6 and remakes of Max Payne 1 and 2. After years of waiting, Grand Theft Auto 6 was officially announced with a release date of 2025. The first trailer has reveiled a new protagonist name Lucia.\\\\n\\\\nAs for Max Payne, Remedy Entertainment confirmed it was teaming up with Rockstar to rebuild the two games last year, though a release window has not been announced.', 'score': 0.7489592, 'raw_content': None}, {'url': 'https://www.ign.com/articles/gta-gets-bully-and-la-noire-later-this-year-rockstar-teases-big-gta-online-update-this-summer', 'title': 'GTA+ Gets Bully and LA Noire Later This Year, Rockstar ...', 'content': '### Site Themes\\\\n\\\\n### Change Region\\\\n\\\\n### More\\\\n\\\\n### News\\\\n\\\\n### Reviews\\\\n\\\\n### Discover\\\\n\\\\n### Videos\\\\n\\\\n### Account\\\\n\\\\n### 20Q #XX: undefined\\\\n\\\\n# GTA+ Gets Bully and LA Noire Later This Year, Rockstar Teases \\u2018Big\\u2019 GTA Online Update This Summer\\\\n\\\\n## Old school.\\\\n\\\\nRockstar has announced plans to add Bully and LA Noire to GTA+ later in 2024. [...] The \\u2018Games Included With GTA+\\u2019 library recently saw the addition of Red Dead Redemption. Bully and LA Noire, both published by Rockstar Games, are next up, although Rockstar\\u2019s wording here suggests more games are coming.\\\\n\\\\n\\u201cWe recently added Red Dead Redemption \\u2014 with access to Undead Nightmare \\u2014 to the stellar Games Included With GTA+ library, and Members can look forward to more Rockstar classics becoming available later this year, including L.A. Noire and Bully,\\u201d Rockstar said. [...] All this comes with GTA 6 looming over the horizon. Rockstar has said it will come out at some point in 2025. It has yet to say what will happen to the existing GTA Online when it does.\\\\n\\\\nWesley is the UK News Editor for IGN. Find him on Twitter at @wyp100. You can reach Wesley at wesley\\\\\\\\_yinpoole@ign.com or confidentially at wyp100@proton.me.\\\\n\\\\n### In This Article\\\\n\\\\nBully\\\\nESRB: Teen\\\\nAndroid\\\\niPhone\\\\nPlayStation 4\\\\nPlayStation 3', 'score': 0.7055624, 'raw_content': None}, {'url': 'https://www.polygon.com/23952805/gta-6-grand-theft-auto-leaks-release-date-trailer/', 'title': \\\"GTA 6: Everything we know about Rockstar's next game\\\", 'content': \\\"In May 2024, at a tech conference, Take-Two CEO Strauss Zelnick addressed the question (albeit indirectly) about a PC port of GTA 6, saying \\u201cthe lack of an announcement is not something that could be set in stone, near as I could tell.\\u201d [...] \\u201cWith every game we have released, the goal has always been to try and exceed your expectations, and Grand Theft Auto VI is no exception,\\u201d Rockstar said in a statement announcing the new release date. \\u201cWe hope you understand that we need this extra time to deliver at the level of quality you expect and deserve.\\u201d [...] ##### A love letter to the characters I knew 'before they blew up'\\\\n\\\\n##### KPop Demon Hunters is coming to theaters after dominating Netflix all summer\\\\n\\\\n##### James Gunn wants to recast this DCU actor he killed in Peacemaker\\\\n\\\\nThe jaws of Oblivion: Saving the Elder Scrolls MMO\\\\n\\\\n##### The Elder Scrolls Online is free to try for QuakeCon 2025\\\\n\\\\nThe Jurassic World movies just had their Last Jedi \\u2018nope\\u2019 moment\\\\n\\\\n##### Jurassic World Rebirth, Accountant 2, and every movie new to streaming this weekend\\\", 'score': 0.657561, 'raw_content': None}, {'url': 'https://nordic.ign.com/grand-theft-auto-v/88991/news/gta-5-returns-to-playstation-plus-game-catalog-2024', 'title': 'GTA 5 Returns to PlayStation Plus Game Catalog for ...', 'content': \\\"### More\\\\n\\\\n# GTA 5 Returns to PlayStation Plus Game Catalog for November 2024\\\\n\\\\n### Here we go again.\\\\n\\\\nWesley Yin-Poole\\\\n\\\\nSony has confirmed its PlayStation Plus Game Catalog lineup for November 2024, and it includes the return of Rockstar\\u2019s GTA 5 in what's an impressive month for subscribers.\\\\n\\\\nIn a post on the PlayStation Blog, Sony also confirmed heavy hitters Dying Light 2: Stay Human and Like a Dragon: Ishin join the subscription service from November 19.\\\", 'score': 0.5596998, 'raw_content': None}], 'response_time': 4.48}\", tool_calls = None)\n",
      " -> (role = assistant, content = [Summary of the answer]\n",
      "Rockstar Games is currently working on Grand Theft Auto 6, which is officially announced with a release date set for 2025. Additionally, they are collaborating with Remedy Entertainment on remakes of Max Payne 1 and 2. They also plan to add classic Rockstar games like Bully and L.A. Noire to the GTA+ subscription service later in 2024.\n",
      "\n",
      "[Detailed explanation]\n",
      "Rockstar Games has confirmed two main projects in their current pipeline: Grand Theft Auto 6 and remakes of Max Payne 1 and 2. GTA 6 has been officially announced and is expected to be released in 2025. The first trailer revealed a new protagonist named Lucia. Remedy Entertainment is partnering with Rockstar to rebuild the two Max Payne games, although the release window for these remakes has not been announced yet.\n",
      "\n",
      "Apart from these, Rockstar is enhancing its GTA+ subscription service by adding more classic games, including Bully and L.A. Noire, later in 2024. The company aims to enter a new era with several groundbreaking titles and expects significant growth in its financial results in the upcoming fiscal years.\n",
      "\n",
      "[Retrieved documents]\n",
      "ID_002, ID_003, ID_014\n",
      "Evaluation result: not useful\n",
      "\n",
      "[Citation]\n",
      "https://www.ign.com/articles/all-rockstar-games\n",
      "https://www.gamesradar.com/rockstar-owner-hints-at-potential-2024-launch-for-gta-6/\n",
      "https://www.ign.com/articles/gta-gets-bully-and-la-noire-later-this-year-rockstar-teases-big-gta-online-update-this-summer, tool_calls = None)\n"
     ]
    }
   ],
   "source": [
    "simple_agent.memory.reset()\n",
    "\n",
    "run6 = simple_agent.invoke(\"What is Rockstar Games working on right now?\")\n",
    "\n",
    "messages6 = run6.get_final_state()[\"messages\"]\n",
    "print_messages(messages6)"
   ]
  },
  {
   "cell_type": "code",
   "execution_count": 130,
   "id": "526f6a0c9a6e98a5",
   "metadata": {
    "ExecuteTime": {
     "end_time": "2025-08-10T09:35:06.776227Z",
     "start_time": "2025-08-10T09:35:06.772287Z"
    }
   },
   "outputs": [
    {
     "name": "stdout",
     "output_type": "stream",
     "text": [
      "[Summary of the answer]\n",
      "Rockstar Games is currently working on Grand Theft Auto 6, which is officially announced with a release date set for 2025. Additionally, they are collaborating with Remedy Entertainment on remakes of Max Payne 1 and 2. They also plan to add classic Rockstar games like Bully and L.A. Noire to the GTA+ subscription service later in 2024.\n",
      "\n",
      "[Detailed explanation]\n",
      "Rockstar Games has confirmed two main projects in their current pipeline: Grand Theft Auto 6 and remakes of Max Payne 1 and 2. GTA 6 has been officially announced and is expected to be released in 2025. The first trailer revealed a new protagonist named Lucia. Remedy Entertainment is partnering with Rockstar to rebuild the two Max Payne games, although the release window for these remakes has not been announced yet.\n",
      "\n",
      "Apart from these, Rockstar is enhancing its GTA+ subscription service by adding more classic games, including Bully and L.A. Noire, later in 2024. The company aims to enter a new era with several groundbreaking titles and expects significant growth in its financial results in the upcoming fiscal years.\n",
      "\n",
      "[Retrieved documents]\n",
      "ID_002, ID_003, ID_014\n",
      "Evaluation result: not useful\n",
      "\n",
      "[Citation]\n",
      "https://www.ign.com/articles/all-rockstar-games\n",
      "https://www.gamesradar.com/rockstar-owner-hints-at-potential-2024-launch-for-gta-6/\n",
      "https://www.ign.com/articles/gta-gets-bully-and-la-noire-later-this-year-rockstar-teases-big-gta-online-update-this-summer\n"
     ]
    }
   ],
   "source": [
    "print(messages6[-1].content)"
   ]
  },
  {
   "cell_type": "code",
   "execution_count": null,
   "id": "b24626211464fdf9",
   "metadata": {},
   "outputs": [],
   "source": []
  }
 ],
 "metadata": {
  "kernelspec": {
   "display_name": "Python 3 (ipykernel)",
   "language": "python",
   "name": "python3"
  },
  "language_info": {
   "codemirror_mode": {
    "name": "ipython",
    "version": 3
   },
   "file_extension": ".py",
   "mimetype": "text/x-python",
   "name": "python",
   "nbconvert_exporter": "python",
   "pygments_lexer": "ipython3",
   "version": "3.13.5"
  }
 },
 "nbformat": 4,
 "nbformat_minor": 5
}
