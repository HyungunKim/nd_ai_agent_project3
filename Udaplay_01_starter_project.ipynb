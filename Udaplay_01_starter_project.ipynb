{
 "cells": [
  {
   "cell_type": "markdown",
   "id": "6fdd0bcb",
   "metadata": {},
   "source": [
    "# [STARTER] Udaplay Project"
   ]
  },
  {
   "cell_type": "markdown",
   "id": "9325b035",
   "metadata": {},
   "source": [
    "## Part 01 - Offline RAG\n",
    "\n",
    "In this part of the project, you'll build your VectorDB using Chroma.\n",
    "\n",
    "The data is inside folder `project/starter/games`. Each file will become a document in the collection you'll create.\n",
    "Example.:\n",
    "```json\n",
    "{\n",
    "  \"Name\": \"Gran Turismo\",\n",
    "  \"Platform\": \"PlayStation 1\",\n",
    "  \"Genre\": \"Racing\",\n",
    "  \"Publisher\": \"Sony Computer Entertainment\",\n",
    "  \"Description\": \"A realistic racing simulator featuring a wide array of cars and tracks, setting a new standard for the genre.\",\n",
    "  \"YearOfRelease\": 1997\n",
    "}\n",
    "```\n"
   ]
  },
  {
   "cell_type": "markdown",
   "id": "2b42de90",
   "metadata": {},
   "source": [
    "### Setup"
   ]
  },
  {
   "cell_type": "code",
   "id": "61283b25",
   "metadata": {
    "ExecuteTime": {
     "end_time": "2025-08-10T06:57:58.159434Z",
     "start_time": "2025-08-10T06:57:58.152413Z"
    }
   },
   "source": [
    "# Only needed for Udacity workspace\n",
    "\n",
    "import importlib.util\n",
    "import sys\n",
    "\n",
    "# Check if 'pysqlite3' is available before importing\n",
    "if importlib.util.find_spec(\"pysqlite3\") is not None:\n",
    "    import pysqlite3\n",
    "    sys.modules['sqlite3'] = sys.modules.pop('pysqlite3')"
   ],
   "outputs": [],
   "execution_count": 1
  },
  {
   "cell_type": "code",
   "id": "a8d56169",
   "metadata": {
    "ExecuteTime": {
     "end_time": "2025-08-10T06:58:01.138028Z",
     "start_time": "2025-08-10T06:58:00.112463Z"
    }
   },
   "source": [
    "import os\n",
    "import json\n",
    "import chromadb\n",
    "from chromadb.utils import embedding_functions\n",
    "from dotenv import load_dotenv"
   ],
   "outputs": [],
   "execution_count": 2
  },
  {
   "cell_type": "code",
   "id": "fd10c06e",
   "metadata": {
    "ExecuteTime": {
     "end_time": "2025-08-10T06:58:03.771819Z",
     "start_time": "2025-08-10T06:58:03.764959Z"
    }
   },
   "source": [
    "load_dotenv()\n",
    "BASE_URL = \"https://openai.vocareum.com/v1\"\n",
    "OPENAI_API_KEY=os.getenv(\"OPENAI_API_KEY\")\n",
    "CHROMA_OPENAI_API_KEY=os.getenv(\"CHROMA_OPENAI_API_KEY\")\n",
    "TAVILY_API_KEY=os.getenv(\"TAVILY_API_KEY\")"
   ],
   "outputs": [],
   "execution_count": 3
  },
  {
   "cell_type": "markdown",
   "id": "27de4729",
   "metadata": {},
   "source": [
    "### VectorDB Instance"
   ]
  },
  {
   "cell_type": "code",
   "id": "b25c36dd",
   "metadata": {
    "ExecuteTime": {
     "end_time": "2025-08-10T06:58:12.214379Z",
     "start_time": "2025-08-10T06:58:12.051994Z"
    }
   },
   "source": "chroma_client = chromadb.PersistentClient(path=\"chromadb\")",
   "outputs": [],
   "execution_count": 4
  },
  {
   "cell_type": "markdown",
   "id": "df844b3b",
   "metadata": {},
   "source": [
    "### Collection"
   ]
  },
  {
   "cell_type": "code",
   "id": "31c56281",
   "metadata": {
    "ExecuteTime": {
     "end_time": "2025-08-10T06:59:15.811730Z",
     "start_time": "2025-08-10T06:59:15.449925Z"
    }
   },
   "source": [
    "# If picking something different than openai,\n",
    "# make sure you use the same when loading it\n",
    "embedding_fn = embedding_functions.OpenAIEmbeddingFunction(api_base=BASE_URL, api_key=CHROMA_OPENAI_API_KEY)"
   ],
   "outputs": [],
   "execution_count": 5
  },
  {
   "metadata": {
    "ExecuteTime": {
     "end_time": "2025-08-10T07:06:03.214032Z",
     "start_time": "2025-08-10T07:06:03.163941Z"
    }
   },
   "cell_type": "code",
   "source": "chroma_client.delete_collection(\"udaplay\")",
   "id": "bf7fa0e6b4623621",
   "outputs": [],
   "execution_count": 18
  },
  {
   "cell_type": "code",
   "id": "0ec23893",
   "metadata": {
    "ExecuteTime": {
     "end_time": "2025-08-10T07:06:04.630658Z",
     "start_time": "2025-08-10T07:06:04.595799Z"
    }
   },
   "source": [
    "collection = chroma_client.create_collection(\n",
    "   name=\"udaplay\",\n",
    "   embedding_function=embedding_fn\n",
    ")"
   ],
   "outputs": [],
   "execution_count": 19
  },
  {
   "cell_type": "markdown",
   "id": "f0a55081",
   "metadata": {},
   "source": [
    "### Add documents"
   ]
  },
  {
   "cell_type": "code",
   "id": "eb83fbb1",
   "metadata": {
    "ExecuteTime": {
     "end_time": "2025-08-10T07:08:40.336572Z",
     "start_time": "2025-08-10T07:08:23.561943Z"
    }
   },
   "source": [
    "# Make sure you have a directory \"project/starter/games\"\n",
    "data_dir = \"games\"\n",
    "\n",
    "for file_name in sorted(os.listdir(data_dir)):\n",
    "    if not file_name.endswith(\".json\"):\n",
    "        continue\n",
    "\n",
    "    file_path = os.path.join(data_dir, file_name)\n",
    "    with open(file_path, \"r\", encoding=\"utf-8\") as f:\n",
    "        game = json.load(f)\n",
    "\n",
    "    # You can change what text you want to index\n",
    "    content = f\"[{game['Platform']}] {game['Name']} ({game['YearOfRelease']}) -genre: {game['Genre']} -publisher: {game['Publisher']} - {game['Description']}\"\n",
    "\n",
    "    # Use file name (like 001) as ID\n",
    "    doc_id = os.path.splitext(file_name)[0]\n",
    "\n",
    "    collection.add(\n",
    "        ids=[doc_id],\n",
    "        documents=[content],\n",
    "        metadatas=[game]\n",
    "    )"
   ],
   "outputs": [],
   "execution_count": 20
  },
  {
   "metadata": {
    "ExecuteTime": {
     "end_time": "2025-08-10T07:08:40.363814Z",
     "start_time": "2025-08-10T07:08:40.344709Z"
    }
   },
   "cell_type": "code",
   "source": "collection.count()",
   "id": "8b943fbb4ee7f59e",
   "outputs": [
    {
     "data": {
      "text/plain": [
       "15"
      ]
     },
     "execution_count": 21,
     "metadata": {},
     "output_type": "execute_result"
    }
   ],
   "execution_count": 21
  },
  {
   "metadata": {
    "ExecuteTime": {
     "end_time": "2025-08-10T07:09:00.996155Z",
     "start_time": "2025-08-10T07:08:59.147266Z"
    }
   },
   "cell_type": "code",
   "source": [
    "collection.query(\n",
    "    query_texts=[\"racing\"],\n",
    "    n_results=2 # how many results to return\n",
    ")"
   ],
   "id": "ea2cd6940ff79263",
   "outputs": [
    {
     "data": {
      "text/plain": [
       "{'ids': [['003', '001']],\n",
       " 'embeddings': None,\n",
       " 'documents': [['[PlayStation 3] Gran Turismo 5 (2010) -genre: Racing -publisher: Sony Computer Entertainment - A comprehensive racing simulator featuring a vast selection of vehicles and tracks, with realistic driving physics.',\n",
       "   '[PlayStation 1] Gran Turismo (1997) -genre: Racing -publisher: Sony Computer Entertainment - A realistic racing simulator featuring a wide array of cars and tracks, setting a new standard for the genre.']],\n",
       " 'uris': None,\n",
       " 'included': ['metadatas', 'documents', 'distances'],\n",
       " 'data': None,\n",
       " 'metadatas': [[{'Publisher': 'Sony Computer Entertainment',\n",
       "    'Description': 'A comprehensive racing simulator featuring a vast selection of vehicles and tracks, with realistic driving physics.',\n",
       "    'Genre': 'Racing',\n",
       "    'YearOfRelease': 2010,\n",
       "    'Platform': 'PlayStation 3',\n",
       "    'Name': 'Gran Turismo 5'},\n",
       "   {'Platform': 'PlayStation 1',\n",
       "    'YearOfRelease': 1997,\n",
       "    'Description': 'A realistic racing simulator featuring a wide array of cars and tracks, setting a new standard for the genre.',\n",
       "    'Name': 'Gran Turismo',\n",
       "    'Genre': 'Racing',\n",
       "    'Publisher': 'Sony Computer Entertainment'}]],\n",
       " 'distances': [[0.3581884503364563, 0.3654991090297699]]}"
      ]
     },
     "execution_count": 22,
     "metadata": {},
     "output_type": "execute_result"
    }
   ],
   "execution_count": 22
  },
  {
   "metadata": {},
   "cell_type": "code",
   "outputs": [],
   "execution_count": null,
   "source": "",
   "id": "497c889737d4ca76"
  }
 ],
 "metadata": {
  "kernelspec": {
   "display_name": ".venv",
   "language": "python",
   "name": "python3"
  },
  "language_info": {
   "codemirror_mode": {
    "name": "ipython",
    "version": 3
   },
   "file_extension": ".py",
   "mimetype": "text/x-python",
   "name": "python",
   "nbconvert_exporter": "python",
   "pygments_lexer": "ipython3",
   "version": "3.11.10"
  }
 },
 "nbformat": 4,
 "nbformat_minor": 5
}
